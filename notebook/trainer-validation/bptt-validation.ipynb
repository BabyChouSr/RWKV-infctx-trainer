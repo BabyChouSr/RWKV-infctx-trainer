{
 "cells": [
  {
   "attachments": {},
   "cell_type": "markdown",
   "metadata": {},
   "source": [
    "# InfCtx trainer validation\n",
    "\n",
    "This model being trained is the small L6-D512 model with\n",
    "- Layer count: 6\n",
    "- Embed size: 512\n",
    "\n",
    "The goal is to validate loss rate change, across the exact same hyper parameters with the following\n",
    "- 1024 data chunk size\n",
    "- same learningrate / weightdecay / seed\n",
    "- \"teven/enwiki_10k\" dataset, chunked to 1024 token sizes\n",
    "\n",
    "With only the change in training context size\n",
    "- 1024 context vs 128 context chunks\n",
    "\n",
    "> This project assumes you have the rwkv-infctx conda env setup, and you are executing in that environment - see the main README.md for the conda env setup steps\n",
    ">\n",
    "> And that you have completed the `baseline-setup.ipynb`"
   ]
  },
  {
   "attachments": {},
   "cell_type": "markdown",
   "metadata": {},
   "source": [
    "## Configure and apply your preferred settings\n",
    "\n",
    "Adjust your desired deepspeed settings, and gpu device count.\n",
    "\n",
    "Enable/Disable WANDB here as well ( Enabled by default, as we need the loss curve for this experiment )\n",
    "\n",
    "( note you will need to rerun this cell, if you restart your env )"
   ]
  },
  {
   "cell_type": "code",
   "execution_count": null,
   "metadata": {},
   "outputs": [],
   "source": [
    "DEEPSPEED_STRAT=\"deepspeed_stage_1\"\n",
    "GPU_DEVICES=\"auto\"\n",
    "ENABLE_WANDB=True\n",
    "WANDB_PREFIX=\"infctx-bptt-validation L6-D512\"\n",
    "\n",
    "print(\"DEEPSPEED_STRAT:\", DEEPSPEED_STRAT)\n",
    "print(\"ENABLE_WANDB:\", ENABLE_WANDB)\n",
    "print(\"GPU_DEVICES:\", GPU_DEVICES)\n",
    "\n",
    "if ENABLE_WANDB:\n",
    "    WANDB_MODE=\"online\"\n",
    "else:\n",
    "    WANDB_MODE=\"disabled\""
   ]
  },
  {
   "attachments": {},
   "cell_type": "markdown",
   "metadata": {},
   "source": [
    "# Baseline full context (1024) training\n",
    "\n",
    "Perform a full 1 epoch training run of training context size = 1024. Ensuring all data samples fit within the allocated training size."
   ]
  },
  {
   "cell_type": "code",
   "execution_count": null,
   "metadata": {},
   "outputs": [],
   "source": [
    "!cd ../../RWKV-v4neo && \\\n",
    "    export WANDB_MODE=\"{WANDB_MODE}\" && \\\n",
    "    python3 new_train.py fit \\\n",
    "        -c ../notebook/trainer-validation/config/L6-D512-neox-1024.yaml \\\n",
    "        --trainer.logger.init_args.name=\"{WANDB_PREFIX} (full, train-ctx=1024, data-ctx=1024, {DEEPSPEED_STRAT})\" \\\n",
    "        --trainer.strategy=\"{DEEPSPEED_STRAT}\" \\\n",
    "        --trainer.devices=\"{GPU_DEVICES}\""
   ]
  },
  {
   "attachments": {},
   "cell_type": "markdown",
   "metadata": {},
   "source": [
    "# Back-Propagation Through Time (512) training\n",
    "\n",
    "Perform a full 1 epoch training run of training context size = 512. This is a less exegerated version of the 128 training"
   ]
  },
  {
   "cell_type": "code",
   "execution_count": null,
   "metadata": {},
   "outputs": [],
   "source": [
    "!cd ../../RWKV-v4neo && \\\n",
    "    export WANDB_MODE=\"{WANDB_MODE}\" && \\\n",
    "    python3 new_train.py fit \\\n",
    "        -c ../notebook/trainer-validation/config/L6-D512-neox-1024.yaml \\\n",
    "        --trainer.logger.init_args.name=\"{WANDB_PREFIX} (bptt, train-ctx=512, data-ctx=1024, {DEEPSPEED_STRAT})\" \\\n",
    "        --trainer.strategy=\"{DEEPSPEED_STRAT}\" \\\n",
    "        --trainer.devices=\"{GPU_DEVICES}\" \\\n",
    "        --model.bptt_learning=\"true\" \\\n",
    "        --model.ctx_len=512"
   ]
  },
  {
   "attachments": {},
   "cell_type": "markdown",
   "metadata": {},
   "source": [
    "# Back-Propagation Through Time (128) training\n",
    "\n",
    "Perform a full 1 epoch training run of training context size = 128. Forcing all data samples to be segmented 8 times, via \"Truncated Back-Propagation Through Time\""
   ]
  },
  {
   "cell_type": "code",
   "execution_count": null,
   "metadata": {},
   "outputs": [],
   "source": [
    "!cd ../../RWKV-v4neo && \\\n",
    "    export WANDB_MODE=\"{WANDB_MODE}\" && \\\n",
    "    python3 new_train.py fit \\\n",
    "        -c ../notebook/trainer-validation/config/L6-D512-neox-1024.yaml \\\n",
    "        --trainer.logger.init_args.name=\"{WANDB_PREFIX} (bptt, train-ctx=128, data-ctx=1024, {DEEPSPEED_STRAT})\" \\\n",
    "        --trainer.strategy=\"{DEEPSPEED_STRAT}\" \\\n",
    "        --trainer.devices=\"{GPU_DEVICES}\" \\\n",
    "        --model.bptt_learning=\"true\" \\\n",
    "        --model.ctx_len=128"
   ]
  },
  {
   "attachments": {},
   "cell_type": "markdown",
   "metadata": {},
   "source": [
    "# Last 1 segmented (128) training\n",
    "\n",
    "Perform a full 1 epoch training run of training context size = 128. Only using the last segment. (This replicates previous known regression)"
   ]
  },
  {
   "cell_type": "code",
   "execution_count": null,
   "metadata": {},
   "outputs": [],
   "source": [
    "!cd ../../RWKV-v4neo && \\\n",
    "    export WANDB_MODE=\"{WANDB_MODE}\" && \\\n",
    "    python3 new_train.py fit \\\n",
    "        -c ../notebook/trainer-validation/config/L6-D512-neox-1024.yaml \\\n",
    "        --trainer.logger.init_args.name=\"{WANDB_PREFIX} (last-1-bptt, train-ctx=128, data-ctx=1024, {DEEPSPEED_STRAT})\" \\\n",
    "        --trainer.strategy=\"{DEEPSPEED_STRAT}\" \\\n",
    "        --trainer.devices=\"{GPU_DEVICES}\" \\\n",
    "        --model.bptt_learning=\"true\" \\\n",
    "        --model.bptt_learning_range=1 \\\n",
    "        --model.ctx_len=128"
   ]
  },
  {
   "cell_type": "markdown",
   "metadata": {},
   "source": [
    "# Last 2 segmented (128) training\n",
    "\n",
    "Last segment + 1 varient, to see the various loss learning differences"
   ]
  },
  {
   "cell_type": "code",
   "execution_count": null,
   "metadata": {},
   "outputs": [],
   "source": [
    "!cd ../../RWKV-v4neo && \\\n",
    "    export WANDB_MODE=\"{WANDB_MODE}\" && \\\n",
    "    python3 new_train.py fit \\\n",
    "        -c ../notebook/trainer-validation/config/L6-D512-neox-1024.yaml \\\n",
    "        --trainer.logger.init_args.name=\"{WANDB_PREFIX} (last-2-bptt, train-ctx=128, data-ctx=1024, {DEEPSPEED_STRAT})\" \\\n",
    "        --trainer.strategy=\"{DEEPSPEED_STRAT}\" \\\n",
    "        --trainer.devices=\"{GPU_DEVICES}\" \\\n",
    "        --model.bptt_learning=\"true\" \\\n",
    "        --model.bptt_learning_range=2 \\\n",
    "        --model.ctx_len=128"
   ]
  }
 ],
 "metadata": {
  "kernelspec": {
   "display_name": "rwkv-exp",
   "language": "python",
   "name": "python3"
  },
  "language_info": {
   "codemirror_mode": {
    "name": "ipython",
    "version": 3
   },
   "file_extension": ".py",
   "mimetype": "text/x-python",
   "name": "python",
   "nbconvert_exporter": "python",
   "pygments_lexer": "ipython3",
   "version": "3.11.4"
  },
  "orig_nbformat": 4
 },
 "nbformat": 4,
 "nbformat_minor": 2
}
