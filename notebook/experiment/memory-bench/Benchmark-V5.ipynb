{
 "cells": [
  {
   "cell_type": "markdown",
   "metadata": {},
   "source": [
    "## Custom Experimental Memory benchmarking\n",
    "\n",
    "The following is meant to observe the memory performance in a more verbose CSV logging mode, for the baseline raven models"
   ]
  },
  {
   "cell_type": "code",
   "execution_count": null,
   "metadata": {},
   "outputs": [],
   "source": [
    "# Lets download the custom models\n",
    "!mkdir -p ../../../model/\n",
    "!cd ../../../model/ && wget -nc \"https://huggingface.co/picocreator/memory-size-experiment-for-rwkv/resolve/main/RWKV-v5-baseline/BaseV5-C-Tune5.pth\"\n",
    "!cd ../../../model/ && wget -nc \"https://huggingface.co/picocreator/RWKV-x-playground/resolve/main/V5-16k/EWR-1B5-E0_1-mem-ctx-8k.pth\"\n",
    "!cd ../../../model/ && wget -nc \"https://huggingface.co/rwkv-x-dev/rwkv-x-playground/resolve/main/experiment/rwkv-x-exp/v5-slim-memory/v5-L6-D1024-E0_1-mem-ctx-8k.pth\"\n",
    "!cd ../../../model/ && wget -nc \"https://huggingface.co/picocreator/RWKV-x-playground/resolve/main/V5-16k/v5-L6-D2048-E0_1-mem-ctx-8k.pth\"\n",
    "!cd ../../../model/ && wget -nc \"https://huggingface.co/picocreator/RWKV-x-playground/resolve/main/V5-16k/v5-L6-D4096-E0_1-mem-ctx-8k.pth\""
   ]
  },
  {
   "cell_type": "code",
   "execution_count": null,
   "metadata": {},
   "outputs": [],
   "source": [
    "!ls -lh ../../../model/"
   ]
  },
  {
   "cell_type": "code",
   "execution_count": null,
   "metadata": {},
   "outputs": [],
   "source": [
    "!python3 -m pip install aiocsv aiofiles"
   ]
  },
  {
   "cell_type": "markdown",
   "metadata": {},
   "source": [
    "# 1B5 V5 benchmark"
   ]
  },
  {
   "cell_type": "code",
   "execution_count": null,
   "metadata": {},
   "outputs": [],
   "source": [
    "!python3 ./memory_script/eval_v5_memory_guided.py \"../../../model/BaseV5-C-Tune5.pth\" \"./logs/BaseV5-C-Tune5-1k.csv\""
   ]
  },
  {
   "cell_type": "code",
   "execution_count": null,
   "metadata": {},
   "outputs": [],
   "source": [
    "!python3 ./memory_script/eval_v5_memory_guided.py \"../../../model/BaseV5-C-Tune5.pth\" \"./logs/BaseV5-C-Tune5-4k.csv\" 1100 4000"
   ]
  },
  {
   "cell_type": "code",
   "execution_count": null,
   "metadata": {},
   "outputs": [],
   "source": [
    "!python3 ./memory_script/eval_v5_memory_guided.py \"../../../model/BaseV5-C-Tune5.pth\" \"./logs/BaseV5-C-Tune5-16k.csv\" 4100 16000"
   ]
  },
  {
   "cell_type": "markdown",
   "metadata": {},
   "source": [
    "# EWR V5 benchmark"
   ]
  },
  {
   "cell_type": "code",
   "execution_count": null,
   "metadata": {},
   "outputs": [],
   "source": [
    "!python3 ./memory_script/eval_v5_memory_guided.py \"../../../model/EWR-1B5-E0_1.pth\" \"./logs/v5-EWR-1B5-E0_1-1k.csv\""
   ]
  },
  {
   "cell_type": "code",
   "execution_count": null,
   "metadata": {},
   "outputs": [],
   "source": [
    "!python3 ./memory_script/eval_v5_memory_guided.py \"../../../model/EWR-1B5-E0_1.pth\" \"./logs/v5-EWR-1B5-E0_1-4k.csv\" 1100 4000"
   ]
  },
  {
   "cell_type": "code",
   "execution_count": null,
   "metadata": {},
   "outputs": [],
   "source": [
    "!python3 ./memory_script/eval_v5_memory_guided.py \"../../../model/EWR-1B5-E0_1.pth\" \"./logs/v5-EWR-1B5-E0_1-16k.csv\" 4100 16000"
   ]
  },
  {
   "cell_type": "markdown",
   "metadata": {},
   "source": [
    "# v5-L6-D1024-E0_1-mem-ctx-8k.pth"
   ]
  },
  {
   "cell_type": "code",
   "execution_count": null,
   "metadata": {},
   "outputs": [],
   "source": [
    "!python3 ./memory_script/eval_v5_memory_guided.py \"../../../model/v5-L6-D1024-E0_1-mem-ctx-8k.pth\" \"./logs/v5-L6-D1024-E0_1-1k.csv\""
   ]
  },
  {
   "cell_type": "code",
   "execution_count": null,
   "metadata": {},
   "outputs": [],
   "source": [
    "!python3 ./memory_script/eval_v5_memory_guided.py \"../../../model/v5-L6-D1024-E0_1-mem-ctx-8k.pth\" \"./logs/v5-L6-D1024-E0_1-4k.csv\" 1100 4000"
   ]
  },
  {
   "cell_type": "code",
   "execution_count": null,
   "metadata": {},
   "outputs": [],
   "source": [
    "!python3 ./memory_script/eval_v5_memory_guided.py \"../../../model/v5-L6-D1024-E0_1-mem-ctx-8k.pth\" \"./logs/v5-L6-D1024-E0_1-16k.csv\" 4100 16000"
   ]
  },
  {
   "cell_type": "markdown",
   "metadata": {},
   "source": [
    "# v5-L6-D2048-E0_1-mem-ctx-8k.pth"
   ]
  },
  {
   "cell_type": "code",
   "execution_count": null,
   "metadata": {},
   "outputs": [],
   "source": [
    "!python3 ./memory_script/eval_v5_memory_guided.py \"../../../model/v5-L6-D2048-E0_1-mem-ctx-8k.pth\" \"./logs/v5-L6-D2048-E0_1-1k.csv\""
   ]
  },
  {
   "cell_type": "code",
   "execution_count": null,
   "metadata": {},
   "outputs": [],
   "source": [
    "!python3 ./memory_script/eval_v5_memory_guided.py \"../../../model/v5-L6-D2048-E0_1-mem-ctx-8k.pth\" \"./logs/v5-L6-D2048-E0_1-4k.csv\" 1100 4000"
   ]
  },
  {
   "cell_type": "code",
   "execution_count": null,
   "metadata": {},
   "outputs": [],
   "source": [
    "!python3 ./memory_script/eval_v5_memory_guided.py \"../../../model/v5-L6-D2048-E0_1-mem-ctx-8k.pth\" \"./logs/v5-L6-D2048-E0_1-16k.csv\" 4100 16000"
   ]
  },
  {
   "cell_type": "markdown",
   "metadata": {},
   "source": [
    "# v5-L6-D4096-E0_1-mem-ctx-8k.pth"
   ]
  },
  {
   "cell_type": "code",
   "execution_count": null,
   "metadata": {},
   "outputs": [],
   "source": [
    "!python3 ./memory_script/eval_v5_memory_guided.py \"../../../model/v5-L6-D4096-E0_1-mem-ctx-8k.pth\" \"./logs/v5-L6-D4096-E0_1-1k.csv\""
   ]
  },
  {
   "cell_type": "code",
   "execution_count": null,
   "metadata": {},
   "outputs": [],
   "source": [
    "!python3 ./memory_script/eval_v5_memory_guided.py \"../../../model/v5-L6-D4096-E0_1-mem-ctx-8k.pth\" \"./logs/v5-L6-D4096-E0_1-4k.csv\" 1100 4000"
   ]
  },
  {
   "cell_type": "code",
   "execution_count": null,
   "metadata": {},
   "outputs": [],
   "source": [
    "!python3 ./memory_script/eval_v5_memory_guided.py \"../../../model/v5-L6-D4096-E0_1-mem-ctx-8k.pth\" \"./logs/v5-L6-D4096-E0_1-16k.csv\" 4100 16000"
   ]
  }
 ],
 "metadata": {
  "kernelspec": {
   "display_name": "rwkv-infctx",
   "language": "python",
   "name": "python3"
  },
  "language_info": {
   "codemirror_mode": {
    "name": "ipython",
    "version": 3
   },
   "file_extension": ".py",
   "mimetype": "text/x-python",
   "name": "python",
   "nbconvert_exporter": "python",
   "pygments_lexer": "ipython3",
   "version": "3.11.4"
  },
  "orig_nbformat": 4
 },
 "nbformat": 4,
 "nbformat_minor": 2
}
