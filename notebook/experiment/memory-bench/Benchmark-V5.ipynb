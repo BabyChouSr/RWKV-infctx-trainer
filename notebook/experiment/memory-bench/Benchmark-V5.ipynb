{
 "cells": [
  {
   "cell_type": "markdown",
   "metadata": {},
   "source": [
    "## Custom Experimental Memory benchmarking\n",
    "\n",
    "The following is meant to observe the memory performance in a more verbose CSV logging mode, for the baseline raven models"
   ]
  },
  {
   "cell_type": "code",
   "execution_count": 7,
   "metadata": {},
   "outputs": [
    {
     "name": "stdout",
     "output_type": "stream",
     "text": [
      "File ‘BaseV5-C-Tune5.pth’ already there; not retrieving.\n",
      "\n",
      "File ‘WaveV5-C-Tune5.pth’ already there; not retrieving.\n",
      "\n"
     ]
    }
   ],
   "source": [
    "# Lets download the custom models\n",
    "!mkdir -p ../../../model/\n",
    "!cd ../../../model/ && wget -nc \"https://huggingface.co/picocreator/memory-size-experiment-for-rwkv/resolve/main/RWKV-v5-baseline/BaseV5-C-Tune5.pth\"\n",
    "!cd ../../../model/ && wget -nc \"https://huggingface.co/picocreator/memory-size-experiment-for-rwkv/resolve/main/v5-Wave/WaveV5-C-Tune5.pth\""
   ]
  },
  {
   "cell_type": "code",
   "execution_count": 3,
   "metadata": {},
   "outputs": [
    {
     "name": "stdout",
     "output_type": "stream",
     "text": [
      "total 75G\n",
      "-rw-rw-r-- 1 ubuntu ubuntu 5.7G Aug  7 06:58 BaseV5-C-Stage2.pth\n",
      "-rw-rw-r-- 1 ubuntu ubuntu 5.7G Aug  8 08:28 BaseV5-C-Tune4.pth\n",
      "-rw-rw-r-- 1 ubuntu ubuntu 5.7G Aug 11 12:48 BaseV5-C-Tune5.pth\n",
      "-rw-rw-r-- 1 ubuntu ubuntu 2.4G Jul 14 16:57 L12-D2560-init.pth\n",
      "-rw-rw-r-- 1 ubuntu ubuntu 2.9G Aug 11 07:30 L24-D2048-neox-v5wave-init.pth\n",
      "-rw-rw-r-- 1 ubuntu ubuntu 4.8G Jul 15 13:52 TokenShift-A-Stage1.pth\n",
      "-rw-rw-r-- 1 ubuntu ubuntu 4.8G Jul 15 15:21 TokenShift-A-Stage2.pth\n",
      "-rw-rw-r-- 1 ubuntu ubuntu 4.8G Jul 15 18:33 TokenShift-A-Tune1.pth\n",
      "-rw-rw-r-- 1 ubuntu ubuntu 4.8G Jul 15 19:21 TokenShift-A-Tune2.pth\n",
      "-rw-rw-r-- 1 ubuntu ubuntu 4.8G Jul 16 00:54 TokenShift-A-Tune3.pth\n",
      "-rw-rw-r-- 1 ubuntu ubuntu 5.7G Aug  9 16:32 WaveV5-C-Tune3.pth\n",
      "-rw-rw-r-- 1 ubuntu ubuntu 5.7G Aug 10 02:11 WaveV5-C-Tune4-preview-2800.pth\n",
      "-rw-rw-r-- 1 ubuntu ubuntu 5.7G Aug  9 08:53 WaveV5-C-Tune4-preview-a.pth\n",
      "-rw-rw-r-- 1 ubuntu ubuntu 5.7G Aug 10 06:28 WaveV5-C-Tune4.pth\n",
      "-rw-rw-r-- 1 ubuntu ubuntu 5.7G Aug 11 12:40 WaveV5-C-Tune5.pth\n"
     ]
    }
   ],
   "source": [
    "!ls -lh ../../../model/"
   ]
  },
  {
   "cell_type": "code",
   "execution_count": 4,
   "metadata": {},
   "outputs": [
    {
     "name": "stdout",
     "output_type": "stream",
     "text": [
      "Requirement already satisfied: aiocsv in /home/ubuntu/anaconda3/envs/rwkv-infctx/lib/python3.11/site-packages (1.2.4)\n",
      "Requirement already satisfied: aiofiles in /home/ubuntu/anaconda3/envs/rwkv-infctx/lib/python3.11/site-packages (23.1.0)\n"
     ]
    }
   ],
   "source": [
    "!python -m pip install aiocsv aiofiles"
   ]
  },
  {
   "cell_type": "markdown",
   "metadata": {},
   "source": [
    "# 1B5 V5 benchmark"
   ]
  },
  {
   "cell_type": "code",
   "execution_count": 3,
   "metadata": {},
   "outputs": [
    {
     "name": "stdout",
     "output_type": "stream",
     "text": [
      "[2023-08-14 09:50:25,603] [INFO] [real_accelerator.py:110:get_accelerator] Setting ds_accelerator to cuda (auto detect)\n",
      "[RWKV.model] Running RWKV model using 'torch-jit' with torch '2.1.0.dev20230706'\n",
      "###\n",
      "### Model validation start ###\n",
      "###\n",
      "## Model validation for 5 tokens : 100.0% similarity, with 5 matched token, and 0 token mismatch\n",
      "## Model validation for 10 tokens : 100.0% similarity, with 10 matched token, and 0 token mismatch\n",
      "## Model validation for 15 tokens : 100.0% similarity, with 15 matched token, and 0 token mismatch\n",
      "## Model validation for 20 tokens : 100.0% similarity, with 20 matched token, and 0 token mismatch\n",
      "## Model validation for 25 tokens : 100.0% similarity, with 25 matched token, and 0 token mismatch\n",
      "## Model validation for 30 tokens : 100.0% similarity, with 30 matched token, and 0 token mismatch\n",
      "## Model validation for 35 tokens : 100.0% similarity, with 35 matched token, and 0 token mismatch\n",
      "## Model validation for 40 tokens : 100.0% similarity, with 40 matched token, and 0 token mismatch\n",
      "## Model validation for 45 tokens : 100.0% similarity, with 45 matched token, and 0 token mismatch\n",
      "## Model validation for 50 tokens : 100.0% similarity, with 50 matched token, and 0 token mismatch\n",
      "## Model validation for 55 tokens : 100.0% similarity, with 55 matched token, and 0 token mismatch\n",
      "## Model validation for 60 tokens : 100.0% similarity, with 60 matched token, and 0 token mismatch\n",
      "## Model validation for 65 tokens : 100.0% similarity, with 65 matched token, and 0 token mismatch\n",
      "## Model validation for 70 tokens : 100.0% similarity, with 70 matched token, and 0 token mismatch\n",
      "## Model validation for 75 tokens : 100.0% similarity, with 75 matched token, and 0 token mismatch\n",
      "## Model validation for 80 tokens : 100.0% similarity, with 80 matched token, and 0 token mismatch\n",
      "## Model validation for 85 tokens : 100.0% similarity, with 85 matched token, and 0 token mismatch\n",
      "## Model validation for 90 tokens : 100.0% similarity, with 90 matched token, and 0 token mismatch\n",
      "## Model validation for 95 tokens : 100.0% similarity, with 95 matched token, and 0 token mismatch\n",
      "## Model validation for 100 tokens : 100.0% similarity, with 100 matched token, and 0 token mismatch\n",
      "## Model validation for 105 tokens : 100.0% similarity, with 105 matched token, and 0 token mismatch\n",
      "## Model validation for 110 tokens : 100.0% similarity, with 110 matched token, and 0 token mismatch\n",
      "## Model validation for 115 tokens : 100.0% similarity, with 115 matched token, and 0 token mismatch\n",
      "## Model validation for 120 tokens : 100.0% similarity, with 120 matched token, and 0 token mismatch\n",
      "## Model validation for 125 tokens : 100.0% similarity, with 125 matched token, and 0 token mismatch\n",
      "## Model validation for 130 tokens : 100.0% similarity, with 130 matched token, and 0 token mismatch\n",
      "## Model validation for 135 tokens : 100.0% similarity, with 135 matched token, and 0 token mismatch\n",
      "## Model validation for 140 tokens : 100.0% similarity, with 140 matched token, and 0 token mismatch\n",
      "## Model validation for 145 tokens : 100.0% similarity, with 145 matched token, and 0 token mismatch\n",
      "## Model validation for 150 tokens : 100.0% similarity, with 150 matched token, and 0 token mismatch\n",
      "## Model validation for 160 tokens : 100.0% similarity, with 160 matched token, and 0 token mismatch\n",
      "## Model validation for 170 tokens : 100.0% similarity, with 170 matched token, and 0 token mismatch\n",
      "## Model validation for 180 tokens : 100.0% similarity, with 180 matched token, and 0 token mismatch\n",
      "## Model validation for 190 tokens : 99.47368421052632% similarity, with 189 matched token, and 1 token mismatch\n",
      "## Model validation for 200 tokens : 100.0% similarity, with 200 matched token, and 0 token mismatch\n",
      "## Model validation for 210 tokens : 100.0% similarity, with 210 matched token, and 0 token mismatch\n",
      "## Model validation for 220 tokens : 100.0% similarity, with 220 matched token, and 0 token mismatch\n",
      "## Model validation for 230 tokens : 100.0% similarity, with 230 matched token, and 0 token mismatch\n",
      "## Model validation for 240 tokens : 100.0% similarity, with 240 matched token, and 0 token mismatch\n",
      "## Model validation for 250 tokens : 100.0% similarity, with 250 matched token, and 0 token mismatch\n",
      "## Model validation for 260 tokens : 100.0% similarity, with 260 matched token, and 0 token mismatch\n",
      "## Model validation for 270 tokens : 100.0% similarity, with 270 matched token, and 0 token mismatch\n",
      "## Model validation for 280 tokens : 99.64285714285714% similarity, with 279 matched token, and 1 token mismatch\n",
      "## Model validation for 290 tokens : 100.0% similarity, with 290 matched token, and 0 token mismatch\n",
      "## Model validation for 300 tokens : 99.66666666666667% similarity, with 299 matched token, and 1 token mismatch\n",
      "## Model validation for 325 tokens : 100.0% similarity, with 325 matched token, and 0 token mismatch\n",
      "## Model validation for 350 tokens : 100.0% similarity, with 350 matched token, and 0 token mismatch\n",
      "## Model validation for 375 tokens : 99.46666666666667% similarity, with 373 matched token, and 2 token mismatch\n",
      "## Model validation for 400 tokens : 99.75% similarity, with 399 matched token, and 1 token mismatch\n",
      "## Model validation for 425 tokens : 99.76470588235294% similarity, with 424 matched token, and 1 token mismatch\n",
      "## Model validation for 450 tokens : 99.55555555555556% similarity, with 448 matched token, and 2 token mismatch\n",
      "## Model validation for 475 tokens : 99.36842105263159% similarity, with 472 matched token, and 3 token mismatch\n",
      "## Model validation for 500 tokens : 99.6% similarity, with 498 matched token, and 2 token mismatch\n",
      "## Model validation for 525 tokens : 99.61904761904762% similarity, with 523 matched token, and 2 token mismatch\n",
      "## Model validation for 550 tokens : 99.27272727272727% similarity, with 546 matched token, and 4 token mismatch\n",
      "## Model validation for 575 tokens : 99.30434782608695% similarity, with 571 matched token, and 4 token mismatch\n",
      "## Model validation for 600 tokens : 99.33333333333333% similarity, with 596 matched token, and 4 token mismatch\n",
      "## Model validation for 625 tokens : 99.03999999999999% similarity, with 619 matched token, and 6 token mismatch\n",
      "## Model validation for 650 tokens : 99.07692307692308% similarity, with 644 matched token, and 6 token mismatch\n",
      "## Model validation for 675 tokens : 99.11111111111111% similarity, with 669 matched token, and 6 token mismatch\n",
      "## Model validation for 700 tokens : 99.0% similarity, with 693 matched token, and 7 token mismatch\n",
      "## Model validation for 750 tokens : 99.06666666666666% similarity, with 743 matched token, and 7 token mismatch\n",
      "## Model validation for 800 tokens : 99.0% similarity, with 792 matched token, and 8 token mismatch\n",
      "## Model validation for 850 tokens : 99.05882352941177% similarity, with 842 matched token, and 8 token mismatch\n",
      "## Model validation for 900 tokens : 99.0% similarity, with 891 matched token, and 9 token mismatch\n",
      "## Model validation for 950 tokens : 99.1578947368421% similarity, with 942 matched token, and 8 token mismatch\n",
      "## Model validation for 1000 tokens : 99.2% similarity, with 992 matched token, and 8 token mismatch\n",
      "## Finished baseline model to eval output predictive matching (aka 0 memory?), for 1000 tokens\n",
      "###\n",
      "### Model validation end ###\n",
      "###\n"
     ]
    }
   ],
   "source": [
    "!python3 ./memory_script/eval_v5_memory_guided.py \"../../../model/BaseV5-C-Tune5.pth\" \"./logs/BaseV5-C-Tune5.csv\""
   ]
  },
  {
   "cell_type": "code",
   "execution_count": 1,
   "metadata": {},
   "outputs": [
    {
     "name": "stdout",
     "output_type": "stream",
     "text": [
      "[2023-08-14 08:49:01,540] [INFO] [real_accelerator.py:110:get_accelerator] Setting ds_accelerator to cuda (auto detect)\n",
      "[RWKV.model] Running RWKV model using 'torch-jit' with torch '2.1.0.dev20230706'\n",
      "###\n",
      "### Model validation start ###\n",
      "###\n",
      "## Model validation for 1100 tokens : 98.63636363636363% similarity, with 1085 matched token, and 15 token mismatch\n",
      "## Model validation for 1150 tokens : 98.52173913043478% similarity, with 1133 matched token, and 17 token mismatch\n",
      "## Model validation for 1200 tokens : 98.75% similarity, with 1185 matched token, and 15 token mismatch\n",
      "## Model validation for 1250 tokens : 98.72% similarity, with 1234 matched token, and 16 token mismatch\n",
      "## Model validation for 1300 tokens : 98.61538461538461% similarity, with 1282 matched token, and 18 token mismatch\n",
      "## Model validation for 1350 tokens : 98.44444444444444% similarity, with 1329 matched token, and 21 token mismatch\n",
      "## Model validation for 1400 tokens : 98.5% similarity, with 1379 matched token, and 21 token mismatch\n",
      "## Model validation for 1450 tokens : 98.20689655172414% similarity, with 1424 matched token, and 26 token mismatch\n",
      "## Model validation for 1500 tokens : 97.86666666666667% similarity, with 1468 matched token, and 32 token mismatch\n",
      "## Model validation for 1550 tokens : 97.67741935483872% similarity, with 1514 matched token, and 36 token mismatch\n",
      "## Model validation for 1600 tokens : 97.8125% similarity, with 1565 matched token, and 35 token mismatch\n",
      "## Model validation for 1650 tokens : 97.57575757575758% similarity, with 1610 matched token, and 40 token mismatch\n",
      "## Model validation for 1700 tokens : 97.6470588235294% similarity, with 1660 matched token, and 40 token mismatch\n",
      "## Model validation for 1750 tokens : 97.94285714285714% similarity, with 1714 matched token, and 36 token mismatch\n",
      "## Model validation for 1800 tokens : 97.72222222222223% similarity, with 1759 matched token, and 41 token mismatch\n",
      "## Model validation for 1850 tokens : 96.86486486486487% similarity, with 1792 matched token, and 58 token mismatch\n",
      "## Model validation for 1900 tokens : 96.36842105263158% similarity, with 1831 matched token, and 69 token mismatch\n",
      "## Model validation for 1950 tokens : 95.23076923076923% similarity, with 1857 matched token, and 93 token mismatch\n",
      "## Model validation for 2000 tokens : 94.75% similarity, with 1895 matched token, and 105 token mismatch\n",
      "## Model validation for 2050 tokens : 93.26829268292684% similarity, with 1912 matched token, and 138 token mismatch\n",
      "## Model validation for 2100 tokens : 91.33333333333333% similarity, with 1918 matched token, and 182 token mismatch\n",
      "## Model validation for 2150 tokens : 90.13953488372093% similarity, with 1938 matched token, and 212 token mismatch\n",
      "## Model validation for 2200 tokens : 88.81818181818181% similarity, with 1954 matched token, and 246 token mismatch\n",
      "## Model validation for 2250 tokens : 86.62222222222222% similarity, with 1949 matched token, and 301 token mismatch\n",
      "## Model validation for 2300 tokens : 84.82608695652173% similarity, with 1951 matched token, and 349 token mismatch\n",
      "## Model validation for 2350 tokens : 82.08510638297872% similarity, with 1929 matched token, and 421 token mismatch\n",
      "## Model validation for 2400 tokens : 80.625% similarity, with 1935 matched token, and 465 token mismatch\n",
      "## Model validation for 2450 tokens : 78.61224489795919% similarity, with 1926 matched token, and 524 token mismatch\n",
      "## Model validation for 2500 tokens : 77.08% similarity, with 1927 matched token, and 573 token mismatch\n",
      "## Model validation for 2550 tokens : 75.25490196078431% similarity, with 1919 matched token, and 631 token mismatch\n",
      "## Model validation for 2600 tokens : 73.88461538461539% similarity, with 1921 matched token, and 679 token mismatch\n",
      "## Model validation for 2650 tokens : 72.71698113207547% similarity, with 1927 matched token, and 723 token mismatch\n",
      "## Model validation for 2700 tokens : 71.4074074074074% similarity, with 1928 matched token, and 772 token mismatch\n",
      "## Model validation for 2750 tokens : 70.10909090909091% similarity, with 1928 matched token, and 822 token mismatch\n",
      "## Model validation for 2800 tokens : 68.85714285714286% similarity, with 1928 matched token, and 872 token mismatch\n",
      "## Model validation for 2850 tokens : 67.89473684210526% similarity, with 1935 matched token, and 915 token mismatch\n",
      "## Model validation for 2900 tokens : 66.6896551724138% similarity, with 1934 matched token, and 966 token mismatch\n",
      "## Model validation for 2950 tokens : 65.62711864406779% similarity, with 1936 matched token, and 1014 token mismatch\n",
      "## Model validation for 3000 tokens : 64.4% similarity, with 1932 matched token, and 1068 token mismatch\n",
      "## Model validation for 3050 tokens : 63.31147540983607% similarity, with 1931 matched token, and 1119 token mismatch\n",
      "## Model validation for 3100 tokens : 62.096774193548384% similarity, with 1925 matched token, and 1175 token mismatch\n",
      "## Model validation for 3150 tokens : 61.17460317460317% similarity, with 1927 matched token, and 1223 token mismatch\n",
      "## Model validation for 3200 tokens : 60.21875% similarity, with 1927 matched token, and 1273 token mismatch\n",
      "## Model validation for 3250 tokens : 59.199999999999996% similarity, with 1924 matched token, and 1326 token mismatch\n",
      "## Model validation for 3300 tokens : 58.18181818181818% similarity, with 1920 matched token, and 1380 token mismatch\n",
      "## Model validation for 3350 tokens : 57.134328358208954% similarity, with 1914 matched token, and 1436 token mismatch\n",
      "## Model validation for 3400 tokens : 56.294117647058826% similarity, with 1914 matched token, and 1486 token mismatch\n",
      "## Model validation for 3450 tokens : 55.362318840579704% similarity, with 1910 matched token, and 1540 token mismatch\n",
      "## Model validation for 3500 tokens : 54.400000000000006% similarity, with 1904 matched token, and 1596 token mismatch\n",
      "## Model validation for 3550 tokens : 53.54929577464789% similarity, with 1901 matched token, and 1649 token mismatch\n",
      "## Model validation for 3600 tokens : 52.77777777777778% similarity, with 1900 matched token, and 1700 token mismatch\n",
      "## Model validation for 3650 tokens : 51.89041095890411% similarity, with 1894 matched token, and 1756 token mismatch\n",
      "## Model validation for 3700 tokens : 51.054054054054056% similarity, with 1889 matched token, and 1811 token mismatch\n",
      "## Model validation for 3750 tokens : 50.18666666666667% similarity, with 1882 matched token, and 1868 token mismatch\n",
      "## Model validation for 3800 tokens : 49.31578947368421% similarity, with 1874 matched token, and 1926 token mismatch\n",
      "## Model validation for 3850 tokens : 48.51948051948052% similarity, with 1868 matched token, and 1982 token mismatch\n",
      "## Model validation for 3900 tokens : 47.53846153846154% similarity, with 1854 matched token, and 2046 token mismatch\n",
      "## Model validation for 3950 tokens : 46.607594936708864% similarity, with 1841 matched token, and 2109 token mismatch\n",
      "## Model validation for 4000 tokens : 45.574999999999996% similarity, with 1823 matched token, and 2177 token mismatch\n",
      "###\n",
      "### Model validation end ###\n",
      "###\n"
     ]
    }
   ],
   "source": [
    "!python3 ./memory_script/eval_v5_memory_guided.py \"../../../model/BaseV5-C-Tune5.pth\" \"./logs/BaseV5-C-Tune5-4k.csv\" 1100 4000"
   ]
  },
  {
   "cell_type": "code",
   "execution_count": 2,
   "metadata": {},
   "outputs": [
    {
     "name": "stdout",
     "output_type": "stream",
     "text": [
      "[2023-08-14 08:52:32,174] [INFO] [real_accelerator.py:110:get_accelerator] Setting ds_accelerator to cuda (auto detect)\n",
      "[RWKV.model] Running RWKV model using 'torch-jit' with torch '2.1.0.dev20230706'\n",
      "###\n",
      "### Model validation start ###\n",
      "###\n",
      "## Model validation for 4100 tokens : 43.97560975609756% similarity, with 1803 matched token, and 2297 token mismatch\n",
      "## Model validation for 4200 tokens : 42.142857142857146% similarity, with 1770 matched token, and 2430 token mismatch\n",
      "## Model validation for 4300 tokens : 40.27906976744186% similarity, with 1732 matched token, and 2568 token mismatch\n",
      "## Model validation for 4400 tokens : 38.27272727272727% similarity, with 1684 matched token, and 2716 token mismatch\n",
      "## Model validation for 4500 tokens : 35.8% similarity, with 1611 matched token, and 2889 token mismatch\n",
      "## Model validation for 4600 tokens : 33.71739130434783% similarity, with 1551 matched token, and 3049 token mismatch\n",
      "## Model validation for 4700 tokens : 31.06382978723404% similarity, with 1460 matched token, and 3240 token mismatch\n",
      "## Model validation for 4800 tokens : 28.375% similarity, with 1362 matched token, and 3438 token mismatch\n",
      "## Model validation for 4900 tokens : 25.857142857142858% similarity, with 1267 matched token, and 3633 token mismatch\n",
      "## Model validation for 5000 tokens : 23.04% similarity, with 1152 matched token, and 3848 token mismatch\n",
      "## Model validation for 5100 tokens : 20.784313725490197% similarity, with 1060 matched token, and 4040 token mismatch\n",
      "## Model validation for 5200 tokens : 18.5% similarity, with 962 matched token, and 4238 token mismatch\n",
      "## Model validation for 5300 tokens : 16.88679245283019% similarity, with 895 matched token, and 4405 token mismatch\n",
      "## Model validation for 5400 tokens : 15.24074074074074% similarity, with 823 matched token, and 4577 token mismatch\n",
      "## Model validation for 5500 tokens : 13.436363636363636% similarity, with 739 matched token, and 4761 token mismatch\n",
      "## Model validation for 5600 tokens : 11.607142857142858% similarity, with 650 matched token, and 4950 token mismatch\n",
      "## Model validation for 5700 tokens : 10.385964912280702% similarity, with 592 matched token, and 5108 token mismatch\n",
      "## Model validation for 5800 tokens : 9.327586206896552% similarity, with 541 matched token, and 5259 token mismatch\n",
      "## Model validation for 5900 tokens : 8.305084745762711% similarity, with 490 matched token, and 5410 token mismatch\n",
      "## Model validation for 6000 tokens : 7.466666666666668% similarity, with 448 matched token, and 5552 token mismatch\n",
      "## Model validation for 6100 tokens : 6.672131147540984% similarity, with 407 matched token, and 5693 token mismatch\n",
      "## Model validation for 6200 tokens : 6.048387096774194% similarity, with 375 matched token, and 5825 token mismatch\n",
      "## Model validation for 6300 tokens : 5.65079365079365% similarity, with 356 matched token, and 5944 token mismatch\n",
      "## Model validation for 6400 tokens : 5.328125% similarity, with 341 matched token, and 6059 token mismatch\n",
      "## Model validation for 6500 tokens : 4.984615384615385% similarity, with 324 matched token, and 6176 token mismatch\n",
      "## Model validation for 6600 tokens : 4.6818181818181825% similarity, with 309 matched token, and 6291 token mismatch\n",
      "## Model validation for 6700 tokens : 4.447761194029851% similarity, with 298 matched token, and 6402 token mismatch\n",
      "## Model validation for 6800 tokens : 4.25% similarity, with 289 matched token, and 6511 token mismatch\n",
      "## Model validation for 6900 tokens : 4.08695652173913% similarity, with 282 matched token, and 6618 token mismatch\n",
      "## Model validation for 7000 tokens : 4.0% similarity, with 280 matched token, and 6720 token mismatch\n",
      "## Model validation for 7100 tokens : 3.943661971830986% similarity, with 280 matched token, and 6820 token mismatch\n",
      "## Model validation for 7200 tokens : 3.763888888888889% similarity, with 271 matched token, and 6929 token mismatch\n",
      "## Model validation for 7300 tokens : 3.767123287671233% similarity, with 275 matched token, and 7025 token mismatch\n",
      "## Model validation for 7400 tokens : 3.689189189189189% similarity, with 273 matched token, and 7127 token mismatch\n",
      "## Model validation for 7500 tokens : 3.64% similarity, with 273 matched token, and 7227 token mismatch\n",
      "## Model validation for 7600 tokens : 3.578947368421052% similarity, with 272 matched token, and 7328 token mismatch\n",
      "## Model validation for 7700 tokens : 3.5844155844155843% similarity, with 276 matched token, and 7424 token mismatch\n",
      "## Model validation for 7800 tokens : 3.5512820512820515% similarity, with 277 matched token, and 7523 token mismatch\n",
      "## Model validation for 7900 tokens : 3.468354430379747% similarity, with 274 matched token, and 7626 token mismatch\n",
      "## Model validation for 8000 tokens : 3.4250000000000003% similarity, with 274 matched token, and 7726 token mismatch\n",
      "## Model validation for 8100 tokens : 3.419753086419753% similarity, with 277 matched token, and 7823 token mismatch\n",
      "## Model validation for 8200 tokens : 3.414634146341464% similarity, with 280 matched token, and 7920 token mismatch\n",
      "## Model validation for 8300 tokens : 3.36144578313253% similarity, with 279 matched token, and 8021 token mismatch\n",
      "## Model validation for 8400 tokens : 3.3690476190476186% similarity, with 283 matched token, and 8117 token mismatch\n",
      "## Model validation for 8500 tokens : 3.3411764705882354% similarity, with 284 matched token, and 8216 token mismatch\n",
      "## Model validation for 8600 tokens : 3.3488372093023258% similarity, with 288 matched token, and 8312 token mismatch\n",
      "## Model validation for 8700 tokens : 3.3678160919540225% similarity, with 293 matched token, and 8407 token mismatch\n",
      "## Model validation for 8800 tokens : 3.3295454545454546% similarity, with 293 matched token, and 8507 token mismatch\n",
      "## Model validation for 8900 tokens : 3.348314606741573% similarity, with 298 matched token, and 8602 token mismatch\n",
      "## Model validation for 9000 tokens : 3.3333333333333335% similarity, with 300 matched token, and 8700 token mismatch\n",
      "## Model validation for 9100 tokens : 3.3406593406593412% similarity, with 304 matched token, and 8796 token mismatch\n",
      "## Model validation for 9200 tokens : 3.3260869565217392% similarity, with 306 matched token, and 8894 token mismatch\n",
      "## Model validation for 9300 tokens : 3.3010752688172045% similarity, with 307 matched token, and 8993 token mismatch\n",
      "## Model validation for 9400 tokens : 3.2978723404255317% similarity, with 310 matched token, and 9090 token mismatch\n",
      "## Model validation for 9500 tokens : 3.3157894736842106% similarity, with 315 matched token, and 9185 token mismatch\n",
      "## Model validation for 9600 tokens : 3.3229166666666665% similarity, with 319 matched token, and 9281 token mismatch\n",
      "## Model validation for 9700 tokens : 3.3195876288659796% similarity, with 322 matched token, and 9378 token mismatch\n",
      "## Model validation for 9800 tokens : 3.316326530612245% similarity, with 325 matched token, and 9475 token mismatch\n",
      "## Model validation for 9900 tokens : 3.3333333333333335% similarity, with 330 matched token, and 9570 token mismatch\n",
      "## Model validation for 10000 tokens : 3.37% similarity, with 337 matched token, and 9663 token mismatch\n",
      "## Model validation for 10100 tokens : 3.3762376237623766% similarity, with 341 matched token, and 9759 token mismatch\n",
      "## Model validation for 10200 tokens : 3.3725490196078427% similarity, with 344 matched token, and 9856 token mismatch\n",
      "## Model validation for 10300 tokens : 3.349514563106796% similarity, with 345 matched token, and 9955 token mismatch\n",
      "## Model validation for 10400 tokens : 3.355769230769231% similarity, with 349 matched token, and 10051 token mismatch\n",
      "## Model validation for 10500 tokens : 3.371428571428572% similarity, with 354 matched token, and 10146 token mismatch\n",
      "## Model validation for 10600 tokens : 3.3584905660377355% similarity, with 356 matched token, and 10244 token mismatch\n",
      "## Model validation for 10700 tokens : 3.392523364485981% similarity, with 363 matched token, and 10337 token mismatch\n",
      "## Model validation for 10800 tokens : 3.4074074074074074% similarity, with 368 matched token, and 10432 token mismatch\n",
      "## Model validation for 10900 tokens : 3.3853211009174315% similarity, with 369 matched token, and 10531 token mismatch\n",
      "## Model validation for 11000 tokens : 3.4000000000000004% similarity, with 374 matched token, and 10626 token mismatch\n",
      "## Model validation for 11100 tokens : 3.3963963963963963% similarity, with 377 matched token, and 10723 token mismatch\n",
      "## Model validation for 11200 tokens : 3.3839285714285716% similarity, with 379 matched token, and 10821 token mismatch\n",
      "## Model validation for 11300 tokens : 3.4070796460176993% similarity, with 385 matched token, and 10915 token mismatch\n",
      "## Model validation for 11400 tokens : 3.43859649122807% similarity, with 392 matched token, and 11008 token mismatch\n",
      "## Model validation for 11500 tokens : 3.4434782608695653% similarity, with 396 matched token, and 11104 token mismatch\n",
      "## Model validation for 11600 tokens : 3.4568965517241383% similarity, with 401 matched token, and 11199 token mismatch\n",
      "## Model validation for 11700 tokens : 3.4444444444444446% similarity, with 403 matched token, and 11297 token mismatch\n",
      "## Model validation for 11800 tokens : 3.457627118644068% similarity, with 408 matched token, and 11392 token mismatch\n",
      "## Model validation for 11900 tokens : 3.46218487394958% similarity, with 412 matched token, and 11488 token mismatch\n",
      "## Model validation for 12000 tokens : 3.4750000000000005% similarity, with 417 matched token, and 11583 token mismatch\n",
      "## Model validation for 12100 tokens : 3.487603305785124% similarity, with 422 matched token, and 11678 token mismatch\n",
      "## Model validation for 12200 tokens : 3.475409836065574% similarity, with 424 matched token, and 11776 token mismatch\n",
      "## Model validation for 12300 tokens : 3.487804878048781% similarity, with 429 matched token, and 11871 token mismatch\n",
      "## Model validation for 12400 tokens : 3.491935483870968% similarity, with 433 matched token, and 11967 token mismatch\n",
      "## Model validation for 12500 tokens : 3.488% similarity, with 436 matched token, and 12064 token mismatch\n",
      "## Model validation for 12600 tokens : 3.484126984126984% similarity, with 439 matched token, and 12161 token mismatch\n",
      "## Model validation for 12700 tokens : 3.4881889763779523% similarity, with 443 matched token, and 12257 token mismatch\n",
      "## Model validation for 12800 tokens : 3.484375% similarity, with 446 matched token, and 12354 token mismatch\n",
      "## Model validation for 12900 tokens : 3.488372093023256% similarity, with 450 matched token, and 12450 token mismatch\n",
      "## Model validation for 13000 tokens : 3.5000000000000004% similarity, with 455 matched token, and 12545 token mismatch\n",
      "## Model validation for 13100 tokens : 3.5038167938931295% similarity, with 459 matched token, and 12641 token mismatch\n",
      "## Model validation for 13200 tokens : 3.5000000000000004% similarity, with 462 matched token, and 12738 token mismatch\n",
      "## Model validation for 13300 tokens : 3.488721804511278% similarity, with 464 matched token, and 12836 token mismatch\n",
      "## Model validation for 13400 tokens : 3.514925373134328% similarity, with 471 matched token, and 12929 token mismatch\n",
      "## Model validation for 13500 tokens : 3.503703703703704% similarity, with 473 matched token, and 13027 token mismatch\n",
      "## Model validation for 13600 tokens : 3.514705882352941% similarity, with 478 matched token, and 13122 token mismatch\n",
      "## Model validation for 13700 tokens : 3.510948905109489% similarity, with 481 matched token, and 13219 token mismatch\n",
      "## Model validation for 13800 tokens : 3.5144927536231885% similarity, with 485 matched token, and 13315 token mismatch\n",
      "## Model validation for 13900 tokens : 3.5251798561151078% similarity, with 490 matched token, and 13410 token mismatch\n",
      "## Model validation for 14000 tokens : 3.55% similarity, with 497 matched token, and 13503 token mismatch\n",
      "## Model validation for 14100 tokens : 3.546099290780142% similarity, with 500 matched token, and 13600 token mismatch\n",
      "## Model validation for 14200 tokens : 3.535211267605634% similarity, with 502 matched token, and 13698 token mismatch\n",
      "## Model validation for 14300 tokens : 3.5454545454545454% similarity, with 507 matched token, and 13793 token mismatch\n",
      "## Model validation for 14400 tokens : 3.5555555555555554% similarity, with 512 matched token, and 13888 token mismatch\n",
      "## Model validation for 14500 tokens : 3.537931034482759% similarity, with 513 matched token, and 13987 token mismatch\n",
      "## Model validation for 14600 tokens : 3.5273972602739727% similarity, with 515 matched token, and 14085 token mismatch\n",
      "## Model validation for 14700 tokens : 3.5646258503401365% similarity, with 524 matched token, and 14176 token mismatch\n",
      "## Model validation for 14800 tokens : 3.5472972972972974% similarity, with 525 matched token, and 14275 token mismatch\n",
      "## Model validation for 14900 tokens : 3.550335570469799% similarity, with 529 matched token, and 14371 token mismatch\n",
      "## Model validation for 15000 tokens : 3.5533333333333332% similarity, with 533 matched token, and 14467 token mismatch\n",
      "## Model validation for 15100 tokens : 3.576158940397351% similarity, with 540 matched token, and 14560 token mismatch\n",
      "## Model validation for 15200 tokens : 3.56578947368421% similarity, with 542 matched token, and 14658 token mismatch\n",
      "## Model validation for 15300 tokens : 3.5490196078431375% similarity, with 543 matched token, and 14757 token mismatch\n",
      "## Model validation for 15400 tokens : 3.551948051948052% similarity, with 547 matched token, and 14853 token mismatch\n",
      "## Model validation for 15500 tokens : 3.5483870967741935% similarity, with 550 matched token, and 14950 token mismatch\n",
      "## Model validation for 15600 tokens : 3.5448717948717947% similarity, with 553 matched token, and 15047 token mismatch\n",
      "## Model validation for 15700 tokens : 3.5605095541401273% similarity, with 559 matched token, and 15141 token mismatch\n",
      "## Model validation for 15800 tokens : 3.5506329113924053% similarity, with 561 matched token, and 15239 token mismatch\n",
      "## Model validation for 15900 tokens : 3.547169811320755% similarity, with 564 matched token, and 15336 token mismatch\n",
      "## Model validation for 16000 tokens : 3.5437499999999997% similarity, with 567 matched token, and 15433 token mismatch\n",
      "###\n",
      "### Model validation end ###\n",
      "###\n"
     ]
    }
   ],
   "source": [
    "!python3 ./memory_script/eval_v5_memory_guided.py \"../../../model/BaseV5-C-Tune5.pth\" \"./logs/BaseV5-C-Tune5-16k.csv\" 4100 16000"
   ]
  },
  {
   "cell_type": "markdown",
   "metadata": {},
   "source": [
    "# 1B5 Wavenet V5 benchmark"
   ]
  },
  {
   "cell_type": "code",
   "execution_count": null,
   "metadata": {},
   "outputs": [],
   "source": [
    "!python3 ./memory_script/eval_v5wavenet_memory_guided.py \"../../../model/WaveV5-C-Tune5.pth\" \"./logs/WavenetV5-C-Tune5.csv\"\n",
    "!python3 ./memory_script/eval_v5wavenet_memory_guided.py \"../../../model/WaveV5-C-Tune5.pth\" \"./logs/WavenetV5-C-Tune5-4k.csv\" 1100 4000"
   ]
  },
  {
   "cell_type": "code",
   "execution_count": null,
   "metadata": {},
   "outputs": [],
   "source": [
    "!python3 ./memory_script/eval_v5wavenet_memory_guided.py \"../../../model/WaveV5-C-Tune5.pth\" \"./logs/WavenetV5-C-Tune5-64k.csv\" 4100 64000"
   ]
  }
 ],
 "metadata": {
  "kernelspec": {
   "display_name": "rwkv-infctx",
   "language": "python",
   "name": "python3"
  },
  "language_info": {
   "codemirror_mode": {
    "name": "ipython",
    "version": 3
   },
   "file_extension": ".py",
   "mimetype": "text/x-python",
   "name": "python",
   "nbconvert_exporter": "python",
   "pygments_lexer": "ipython3",
   "version": "3.11.4"
  },
  "orig_nbformat": 4
 },
 "nbformat": 4,
 "nbformat_minor": 2
}
