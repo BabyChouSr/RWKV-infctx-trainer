{
 "cells": [
  {
   "cell_type": "markdown",
   "metadata": {},
   "source": [
    "## Custom Experimental Memory benchmarking\n",
    "\n",
    "The following is meant to observe the memory performance in a more verbose CSV logging mode, for the baseline raven models"
   ]
  },
  {
   "cell_type": "code",
   "execution_count": null,
   "metadata": {},
   "outputs": [],
   "source": [
    "# Lets download the custom models\n",
    "!mkdir -p ../../../model/\n",
    "!cd ../../../model/ && wget -nc \"https://huggingface.co/picocreator/memory-size-experiment-for-rwkv/resolve/main/RWKV-v5-baseline/BaseV5-C-Tune3.pth\""
   ]
  },
  {
   "cell_type": "code",
   "execution_count": null,
   "metadata": {},
   "outputs": [],
   "source": [
    "!ls ../../../model/"
   ]
  },
  {
   "cell_type": "markdown",
   "metadata": {},
   "source": [
    "# 1B5 V4 benchmark"
   ]
  },
  {
   "cell_type": "code",
   "execution_count": 1,
   "metadata": {},
   "outputs": [
    {
     "name": "stdout",
     "output_type": "stream",
     "text": [
      "[2023-08-07 15:34:13,678] [INFO] [real_accelerator.py:110:get_accelerator] Setting ds_accelerator to cuda (auto detect)\n",
      "[RWKV.model] Running RWKV model using 'torch-jit' with torch '2.0.1'\n",
      "###\n",
      "### Model validation start ###\n",
      "###\n",
      "## Model validation for 5 tokens : 100.0% similarity, with 5 matched token, and 0 token mismatch\n",
      "## Model validation for 10 tokens : 100.0% similarity, with 10 matched token, and 0 token mismatch\n",
      "## Model validation for 15 tokens : 100.0% similarity, with 15 matched token, and 0 token mismatch\n",
      "## Model validation for 20 tokens : 100.0% similarity, with 20 matched token, and 0 token mismatch\n",
      "## Model validation for 25 tokens : 100.0% similarity, with 25 matched token, and 0 token mismatch\n",
      "## Model validation for 30 tokens : 100.0% similarity, with 30 matched token, and 0 token mismatch\n",
      "## Model validation for 35 tokens : 100.0% similarity, with 35 matched token, and 0 token mismatch\n",
      "## Model validation for 40 tokens : 100.0% similarity, with 40 matched token, and 0 token mismatch\n",
      "## Model validation for 45 tokens : 100.0% similarity, with 45 matched token, and 0 token mismatch\n",
      "## Model validation for 50 tokens : 100.0% similarity, with 50 matched token, and 0 token mismatch\n",
      "## Model validation for 55 tokens : 100.0% similarity, with 55 matched token, and 0 token mismatch\n",
      "## Model validation for 60 tokens : 100.0% similarity, with 60 matched token, and 0 token mismatch\n",
      "## Model validation for 65 tokens : 100.0% similarity, with 65 matched token, and 0 token mismatch\n",
      "## Model validation for 70 tokens : 100.0% similarity, with 70 matched token, and 0 token mismatch\n",
      "## Model validation for 75 tokens : 100.0% similarity, with 75 matched token, and 0 token mismatch\n",
      "## Model validation for 80 tokens : 98.75% similarity, with 79 matched token, and 1 token mismatch\n",
      "## Model validation for 85 tokens : 100.0% similarity, with 85 matched token, and 0 token mismatch\n",
      "## Model validation for 90 tokens : 100.0% similarity, with 90 matched token, and 0 token mismatch\n",
      "## Model validation for 95 tokens : 100.0% similarity, with 95 matched token, and 0 token mismatch\n",
      "## Model validation for 100 tokens : 99.0% similarity, with 99 matched token, and 1 token mismatch\n",
      "## Model validation for 105 tokens : 100.0% similarity, with 105 matched token, and 0 token mismatch\n",
      "## Model validation for 110 tokens : 100.0% similarity, with 110 matched token, and 0 token mismatch\n",
      "## Model validation for 115 tokens : 99.1304347826087% similarity, with 114 matched token, and 1 token mismatch\n",
      "## Model validation for 120 tokens : 100.0% similarity, with 120 matched token, and 0 token mismatch\n",
      "## Model validation for 125 tokens : 99.2% similarity, with 124 matched token, and 1 token mismatch\n",
      "## Model validation for 130 tokens : 99.23076923076923% similarity, with 129 matched token, and 1 token mismatch\n",
      "## Model validation for 135 tokens : 98.51851851851852% similarity, with 133 matched token, and 2 token mismatch\n",
      "## Model validation for 140 tokens : 99.28571428571429% similarity, with 139 matched token, and 1 token mismatch\n",
      "## Model validation for 145 tokens : 98.62068965517241% similarity, with 143 matched token, and 2 token mismatch\n",
      "## Model validation for 150 tokens : 99.33333333333333% similarity, with 149 matched token, and 1 token mismatch\n",
      "## Model validation for 160 tokens : 99.375% similarity, with 159 matched token, and 1 token mismatch\n",
      "## Model validation for 170 tokens : 99.41176470588235% similarity, with 169 matched token, and 1 token mismatch\n",
      "## Model validation for 180 tokens : 98.33333333333333% similarity, with 177 matched token, and 3 token mismatch\n",
      "## Model validation for 190 tokens : 98.94736842105263% similarity, with 188 matched token, and 2 token mismatch\n",
      "## Model validation for 200 tokens : 99.0% similarity, with 198 matched token, and 2 token mismatch\n",
      "## Model validation for 210 tokens : 99.04761904761905% similarity, with 208 matched token, and 2 token mismatch\n",
      "## Model validation for 220 tokens : 99.0909090909091% similarity, with 218 matched token, and 2 token mismatch\n",
      "## Model validation for 230 tokens : 98.69565217391305% similarity, with 227 matched token, and 3 token mismatch\n",
      "## Model validation for 240 tokens : 99.16666666666667% similarity, with 238 matched token, and 2 token mismatch\n",
      "## Model validation for 250 tokens : 99.2% similarity, with 248 matched token, and 2 token mismatch\n",
      "## Model validation for 260 tokens : 99.23076923076923% similarity, with 258 matched token, and 2 token mismatch\n",
      "## Model validation for 270 tokens : 99.62962962962963% similarity, with 269 matched token, and 1 token mismatch\n",
      "## Model validation for 280 tokens : 99.28571428571429% similarity, with 278 matched token, and 2 token mismatch\n",
      "## Model validation for 290 tokens : 99.3103448275862% similarity, with 288 matched token, and 2 token mismatch\n",
      "## Model validation for 300 tokens : 99.33333333333333% similarity, with 298 matched token, and 2 token mismatch\n",
      "## Model validation for 325 tokens : 99.38461538461539% similarity, with 323 matched token, and 2 token mismatch\n",
      "## Model validation for 350 tokens : 99.14285714285714% similarity, with 347 matched token, and 3 token mismatch\n",
      "## Model validation for 375 tokens : 99.46666666666667% similarity, with 373 matched token, and 2 token mismatch\n",
      "## Model validation for 400 tokens : 98.75% similarity, with 395 matched token, and 5 token mismatch\n",
      "## Model validation for 425 tokens : 97.1764705882353% similarity, with 413 matched token, and 12 token mismatch\n",
      "## Model validation for 450 tokens : 95.55555555555556% similarity, with 430 matched token, and 20 token mismatch\n",
      "## Model validation for 475 tokens : 96.0% similarity, with 456 matched token, and 19 token mismatch\n",
      "## Model validation for 500 tokens : 91.60000000000001% similarity, with 458 matched token, and 42 token mismatch\n",
      "## Model validation for 525 tokens : 89.71428571428571% similarity, with 471 matched token, and 54 token mismatch\n",
      "## Model validation for 550 tokens : 84.72727272727273% similarity, with 466 matched token, and 84 token mismatch\n",
      "## Model validation for 575 tokens : 80.52173913043478% similarity, with 463 matched token, and 112 token mismatch\n",
      "## Model validation for 600 tokens : 75.66666666666667% similarity, with 454 matched token, and 146 token mismatch\n",
      "## Model validation for 625 tokens : 70.08% similarity, with 438 matched token, and 187 token mismatch\n",
      "## Model validation for 650 tokens : 64.92307692307693% similarity, with 422 matched token, and 228 token mismatch\n",
      "## Model validation for 675 tokens : 60.0% similarity, with 405 matched token, and 270 token mismatch\n",
      "## Model validation for 700 tokens : 56.714285714285715% similarity, with 397 matched token, and 303 token mismatch\n",
      "## Model validation for 750 tokens : 46.93333333333333% similarity, with 352 matched token, and 398 token mismatch\n",
      "## Model validation for 800 tokens : 39.25% similarity, with 314 matched token, and 486 token mismatch\n",
      "## Model validation for 850 tokens : 31.529411764705884% similarity, with 268 matched token, and 582 token mismatch\n",
      "## Model validation for 900 tokens : 23.444444444444446% similarity, with 211 matched token, and 689 token mismatch\n",
      "## Model validation for 950 tokens : 18.31578947368421% similarity, with 174 matched token, and 776 token mismatch\n",
      "## Model validation for 1000 tokens : 13.100000000000001% similarity, with 131 matched token, and 869 token mismatch\n"
     ]
    }
   ],
   "source": [
    "# Memory benchmarking of the Echo-B-1B4-Tune3.pth\n",
    "!python3 ./memory_script/eval_v5_memory_guided.py \"../../../model/BaseV5-C-Tune3.pth\" \"./logs/BaseV5-C-Tune3.csv\""
   ]
  }
 ],
 "metadata": {
  "kernelspec": {
   "display_name": "rwkv-infctx",
   "language": "python",
   "name": "python3"
  },
  "language_info": {
   "codemirror_mode": {
    "name": "ipython",
    "version": 3
   },
   "file_extension": ".py",
   "mimetype": "text/x-python",
   "name": "python",
   "nbconvert_exporter": "python",
   "pygments_lexer": "ipython3",
   "version": "3.11.4"
  },
  "orig_nbformat": 4
 },
 "nbformat": 4,
 "nbformat_minor": 2
}
