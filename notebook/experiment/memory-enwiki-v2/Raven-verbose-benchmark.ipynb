{
 "cells": [
  {
   "cell_type": "markdown",
   "metadata": {},
   "source": [
    "## Raven Verbose benchmarking\n",
    "\n",
    "The following is meant to observe the memory performance in a more verbose logging mode, for the baseline raven models"
   ]
  },
  {
   "cell_type": "code",
   "execution_count": null,
   "metadata": {},
   "outputs": [
    {
     "name": "stdout",
     "output_type": "stream",
     "text": [
      "--2023-07-16 09:21:17--  https://huggingface.co/BlinkDL/rwkv-4-raven/resolve/main/RWKV-4-Raven-1B5-v12-Eng98%25-Other2%25-20230520-ctx4096.pth\n",
      "Resolving huggingface.co (huggingface.co)... 18.154.227.67, 18.154.227.7, 18.154.227.69, ...\n",
      "Connecting to huggingface.co (huggingface.co)|18.154.227.67|:443... connected.\n",
      "HTTP request sent, awaiting response... 302 Found\n",
      "Location: https://cdn-lfs.huggingface.co/repos/41/55/4155c7aaff64e0f4b926df1a8fff201f8ee3653c39ba67b31e4973ae97828633/6bbbffb3ee2372dfa9ef49c599e9a2bc0a01b94b6a264ba9bf5bd524fc38f723?response-content-disposition=attachment%3B+filename*%3DUTF-8%27%27RWKV-4-Raven-1B5-v12-Eng98%2525-Other2%2525-20230520-ctx4096.pth%3B+filename%3D%22RWKV-4-Raven-1B5-v12-Eng98%25-Other2%25-20230520-ctx4096.pth%22%3B&Expires=1689758477&Policy=eyJTdGF0ZW1lbnQiOlt7IkNvbmRpdGlvbiI6eyJEYXRlTGVzc1RoYW4iOnsiQVdTOkVwb2NoVGltZSI6MTY4OTc1ODQ3N319LCJSZXNvdXJjZSI6Imh0dHBzOi8vY2RuLWxmcy5odWdnaW5nZmFjZS5jby9yZXBvcy80MS81NS80MTU1YzdhYWZmNjRlMGY0YjkyNmRmMWE4ZmZmMjAxZjhlZTM2NTNjMzliYTY3YjMxZTQ5NzNhZTk3ODI4NjMzLzZiYmJmZmIzZWUyMzcyZGZhOWVmNDljNTk5ZTlhMmJjMGEwMWI5NGI2YTI2NGJhOWJmNWJkNTI0ZmMzOGY3MjM%7EcmVzcG9uc2UtY29udGVudC1kaXNwb3NpdGlvbj0qIn1dfQ__&Signature=RIpH%7ELeUTdW5CsI5T0Ylj2fjRyirHeSmq0mar-PmEIrHNa%7Ed62OwM%7Ew37njzwJGpxbV5yjrYe5HsQM94IQ6xC%7EYC7CM0DyPeis0VMjo8wChTXgdMUCIkqkyWk6Wq4Z7GX6A-cSDBIvuoaY-qWuz4gRrVX7Sb6jqLMfb5o9r0tDrec1De0iqphgRZqDxLQ5rSj0W3WfmxYJWkbUTvYHIS6wobQVGHf-KR217ETaShpckzUhIPgtHzoJhbM6eVJrGrTTF4h-VDDYryiT-XwGdZZqivHetfnOXJd2rhFS7gTLROtKtDNlO-u7ws1ZleiNWtyTpEIpluNmP9w%7Em4sd2j%7Eg__&Key-Pair-Id=KVTP0A1DKRTAX [following]\n",
      "--2023-07-16 09:21:17--  https://cdn-lfs.huggingface.co/repos/41/55/4155c7aaff64e0f4b926df1a8fff201f8ee3653c39ba67b31e4973ae97828633/6bbbffb3ee2372dfa9ef49c599e9a2bc0a01b94b6a264ba9bf5bd524fc38f723?response-content-disposition=attachment%3B+filename*%3DUTF-8%27%27RWKV-4-Raven-1B5-v12-Eng98%2525-Other2%2525-20230520-ctx4096.pth%3B+filename%3D%22RWKV-4-Raven-1B5-v12-Eng98%25-Other2%25-20230520-ctx4096.pth%22%3B&Expires=1689758477&Policy=eyJTdGF0ZW1lbnQiOlt7IkNvbmRpdGlvbiI6eyJEYXRlTGVzc1RoYW4iOnsiQVdTOkVwb2NoVGltZSI6MTY4OTc1ODQ3N319LCJSZXNvdXJjZSI6Imh0dHBzOi8vY2RuLWxmcy5odWdnaW5nZmFjZS5jby9yZXBvcy80MS81NS80MTU1YzdhYWZmNjRlMGY0YjkyNmRmMWE4ZmZmMjAxZjhlZTM2NTNjMzliYTY3YjMxZTQ5NzNhZTk3ODI4NjMzLzZiYmJmZmIzZWUyMzcyZGZhOWVmNDljNTk5ZTlhMmJjMGEwMWI5NGI2YTI2NGJhOWJmNWJkNTI0ZmMzOGY3MjM%7EcmVzcG9uc2UtY29udGVudC1kaXNwb3NpdGlvbj0qIn1dfQ__&Signature=RIpH%7ELeUTdW5CsI5T0Ylj2fjRyirHeSmq0mar-PmEIrHNa%7Ed62OwM%7Ew37njzwJGpxbV5yjrYe5HsQM94IQ6xC%7EYC7CM0DyPeis0VMjo8wChTXgdMUCIkqkyWk6Wq4Z7GX6A-cSDBIvuoaY-qWuz4gRrVX7Sb6jqLMfb5o9r0tDrec1De0iqphgRZqDxLQ5rSj0W3WfmxYJWkbUTvYHIS6wobQVGHf-KR217ETaShpckzUhIPgtHzoJhbM6eVJrGrTTF4h-VDDYryiT-XwGdZZqivHetfnOXJd2rhFS7gTLROtKtDNlO-u7ws1ZleiNWtyTpEIpluNmP9w%7Em4sd2j%7Eg__&Key-Pair-Id=KVTP0A1DKRTAX\n",
      "Resolving cdn-lfs.huggingface.co (cdn-lfs.huggingface.co)... 108.138.64.111, 108.138.64.49, 108.138.64.121, ...\n",
      "Connecting to cdn-lfs.huggingface.co (cdn-lfs.huggingface.co)|108.138.64.111|:443... connected.\n",
      "HTTP request sent, awaiting response... "
     ]
    },
    {
     "name": "stdout",
     "output_type": "stream",
     "text": [
      "200 OK\n",
      "Length: 3030279730 (2.8G) [binary/octet-stream]\n",
      "Saving to: ‘RWKV-4-Raven-1B5-v12-Eng98%-Other2%-20230520-ctx4096.pth’\n",
      "\n",
      "RWKV-4-Raven-1B5-v1 100%[===================>]   2.82G  72.7MB/s    in 44s     \n",
      "\n",
      "2023-07-16 09:22:00 (66.3 MB/s) - ‘RWKV-4-Raven-1B5-v12-Eng98%-Other2%-20230520-ctx4096.pth’ saved [3030279730/3030279730]\n",
      "\n"
     ]
    }
   ],
   "source": [
    "# Lets download the raven model\n",
    "!mkdir -p ../../../model/\n",
    "# !cd ../../../model/ && wget \"https://huggingface.co/BlinkDL/rwkv-4-raven/resolve/main/RWKV-4-Raven-1B5-v12-Eng98%25-Other2%25-20230520-ctx4096.pth\"\n",
    "# !cd ../../../model/ && wget \"https://huggingface.co/BlinkDL/rwkv-4-raven/resolve/main/RWKV-4-Raven-3B-v12-Eng98%25-Other2%25-20230520-ctx4096.pth\"\n",
    "!cd ../../../model/ && wget \"https://huggingface.co/BlinkDL/rwkv-4-raven/resolve/main/RWKV-4-Raven-7B-v12-Eng98%25-Other2%25-20230521-ctx8192.pth\"\n",
    "!cd ../../../model/ && wget \"https://huggingface.co/BlinkDL/rwkv-4-raven/resolve/main/RWKV-4-Raven-14B-v12-Eng98%25-Other2%25-20230523-ctx8192.pth\""
   ]
  },
  {
   "cell_type": "code",
   "execution_count": 1,
   "metadata": {},
   "outputs": [
    {
     "name": "stdout",
     "output_type": "stream",
     "text": [
      "Echo-A-1B5-Init.pth    RWKV-4-Raven-1B5-v12-Eng98%-Other2%-20230520-ctx4096.pth\n",
      "Echo-B-1B4-Stage1.pth  RWKV-4-Raven-3B-v12-Eng98%-Other2%-20230520-ctx4096.pth\n"
     ]
    }
   ],
   "source": [
    "!ls ../../../model/"
   ]
  },
  {
   "cell_type": "code",
   "execution_count": 4,
   "metadata": {},
   "outputs": [
    {
     "name": "stdout",
     "output_type": "stream",
     "text": [
      "Collecting rwkv\n",
      "  Downloading rwkv-0.8.0-py3-none-any.whl (395 kB)\n",
      "\u001b[2K     \u001b[90m━━━━━━━━━━━━━━━━━━━━━━━━━━━━━━━━━━━━━━\u001b[0m \u001b[32m395.4/395.4 kB\u001b[0m \u001b[31m23.8 MB/s\u001b[0m eta \u001b[36m0:00:00\u001b[0m\n",
      "\u001b[?25hRequirement already satisfied: tokenizers>=0.13.2 in /home/ubuntu/anaconda3/envs/rwkv-infctx/lib/python3.11/site-packages (from rwkv) (0.13.3)\n",
      "Installing collected packages: rwkv\n",
      "Successfully installed rwkv-0.8.0\n"
     ]
    }
   ],
   "source": [
    "!python -m pip install rwkv"
   ]
  },
  {
   "cell_type": "code",
   "execution_count": 10,
   "metadata": {},
   "outputs": [
    {
     "name": "stdout",
     "output_type": "stream",
     "text": [
      "Using /home/ubuntu/.cache/torch_extensions/py311_cu118 as PyTorch extensions root...\n",
      "Detected CUDA files, patching ldflags\n",
      "Emitting ninja build file /home/ubuntu/.cache/torch_extensions/py311_cu118/wkv_cuda/build.ninja...\n",
      "Building extension module wkv_cuda...\n",
      "Allowing ninja to set a default number of workers... (overridable by setting the environment variable MAX_JOBS=N)\n",
      "ninja: no work to do.\n",
      "Loading extension module wkv_cuda...\n",
      "RWKV_JIT_ON 1 RWKV_CUDA_ON 1 RESCALE_LAYER 0\n",
      "\n",
      "Loading ../../../model/RWKV-4-Raven-1B5-v12-Eng98%-Other2%-20230520-ctx4096.pth ...\n",
      "Strategy: (total 24+1=25 layers)\n",
      "* cuda [float32, float32], store 25 layers\n",
      "0-cuda-float32-float32 1-cuda-float32-float32 2-cuda-float32-float32 3-cuda-float32-float32 4-cuda-float32-float32 5-cuda-float32-float32 6-cuda-float32-float32 7-cuda-float32-float32 8-cuda-float32-float32 9-cuda-float32-float32 10-cuda-float32-float32 11-cuda-float32-float32 12-cuda-float32-float32 13-cuda-float32-float32 14-cuda-float32-float32 15-cuda-float32-float32 16-cuda-float32-float32 17-cuda-float32-float32 18-cuda-float32-float32 19-cuda-float32-float32 20-cuda-float32-float32 21-cuda-float32-float32 22-cuda-float32-float32 23-cuda-float32-float32 24-cuda-float32-float32 \n",
      "emb.weight                        f32      cpu  50277  2048 \n",
      "blocks.0.ln1.weight               f32   cuda:0   2048       \n",
      "blocks.0.ln1.bias                 f32   cuda:0   2048       \n",
      "blocks.0.ln2.weight               f32   cuda:0   2048       \n",
      "blocks.0.ln2.bias                 f32   cuda:0   2048       \n",
      "blocks.0.att.time_decay           f32   cuda:0   2048       \n",
      "blocks.0.att.time_first           f32   cuda:0   2048       \n",
      "blocks.0.att.time_mix_k           f32   cuda:0   2048       \n",
      "blocks.0.att.time_mix_v           f32   cuda:0   2048       \n",
      "blocks.0.att.time_mix_r           f32   cuda:0   2048       \n",
      "blocks.0.att.key.weight           f32   cuda:0   2048  2048 \n",
      "blocks.0.att.value.weight         f32   cuda:0   2048  2048 \n",
      "blocks.0.att.receptance.weight    f32   cuda:0   2048  2048 \n",
      "blocks.0.att.output.weight        f32   cuda:0   2048  2048 \n",
      "blocks.0.ffn.time_mix_k           f32   cuda:0   2048       \n",
      "blocks.0.ffn.time_mix_r           f32   cuda:0   2048       \n",
      "blocks.0.ffn.key.weight           f32   cuda:0   2048  8192 \n",
      "blocks.0.ffn.receptance.weight    f32   cuda:0   2048  2048 \n",
      "blocks.0.ffn.value.weight         f32   cuda:0   8192  2048 \n",
      "............................................................................................................................................................................................................................................................................................................................................................................................................\n",
      "blocks.23.ln1.weight              f32   cuda:0   2048       \n",
      "blocks.23.ln1.bias                f32   cuda:0   2048       \n",
      "blocks.23.ln2.weight              f32   cuda:0   2048       \n",
      "blocks.23.ln2.bias                f32   cuda:0   2048       \n",
      "blocks.23.att.time_decay          f32   cuda:0   2048       \n",
      "blocks.23.att.time_first          f32   cuda:0   2048       \n",
      "blocks.23.att.time_mix_k          f32   cuda:0   2048       \n",
      "blocks.23.att.time_mix_v          f32   cuda:0   2048       \n",
      "blocks.23.att.time_mix_r          f32   cuda:0   2048       \n",
      "blocks.23.att.key.weight          f32   cuda:0   2048  2048 \n",
      "blocks.23.att.value.weight        f32   cuda:0   2048  2048 \n",
      "blocks.23.att.receptance.weight   f32   cuda:0   2048  2048 \n",
      "blocks.23.att.output.weight       f32   cuda:0   2048  2048 \n",
      "blocks.23.ffn.time_mix_k          f32   cuda:0   2048       \n",
      "blocks.23.ffn.time_mix_r          f32   cuda:0   2048       \n",
      "blocks.23.ffn.key.weight          f32   cuda:0   2048  8192 \n",
      "blocks.23.ffn.receptance.weight   f32   cuda:0   2048  2048 \n",
      "blocks.23.ffn.value.weight        f32   cuda:0   8192  2048 \n",
      "ln_out.weight                     f32   cuda:0   2048       \n",
      "ln_out.bias                       f32   cuda:0   2048       \n",
      "head.weight                       f32   cuda:0   2048 50277 \n",
      "###\n",
      "### Model validation start ###\n",
      "###\n",
      "## Model validation for 5 tokens : 100.0% similarity, with 5 matched token, and 0 token mismatch\n",
      "## Model validation for 10 tokens : 100.0% similarity, with 10 matched token, and 0 token mismatch\n",
      "## Model validation for 15 tokens : 93.33333333333333% similarity, with 14 matched token, and 1 token mismatch\n",
      "## Model validation for 20 tokens : 95.0% similarity, with 19 matched token, and 1 token mismatch\n",
      "## Model validation for 25 tokens : 92.0% similarity, with 23 matched token, and 2 token mismatch\n",
      "## Model validation for 30 tokens : 90.0% similarity, with 27 matched token, and 3 token mismatch\n",
      "## Model validation for 35 tokens : 91.42857142857143% similarity, with 32 matched token, and 3 token mismatch\n",
      "## Model validation for 40 tokens : 92.5% similarity, with 37 matched token, and 3 token mismatch\n",
      "## Model validation for 45 tokens : 88.88888888888889% similarity, with 40 matched token, and 5 token mismatch\n",
      "## Model validation for 50 tokens : 92.0% similarity, with 46 matched token, and 4 token mismatch\n",
      "## Model validation for 55 tokens : 89.0909090909091% similarity, with 49 matched token, and 6 token mismatch\n",
      "## Model validation for 60 tokens : 85.0% similarity, with 51 matched token, and 9 token mismatch\n",
      "## Model validation for 65 tokens : 80.0% similarity, with 52 matched token, and 13 token mismatch\n",
      "## Model validation for 70 tokens : 72.85714285714285% similarity, with 51 matched token, and 19 token mismatch\n",
      "## Model validation for 75 tokens : 68.0% similarity, with 51 matched token, and 24 token mismatch\n",
      "## Model validation for 80 tokens : 66.25% similarity, with 53 matched token, and 27 token mismatch\n",
      "## Model validation for 85 tokens : 58.82352941176471% similarity, with 50 matched token, and 35 token mismatch\n",
      "## Model validation for 90 tokens : 55.55555555555556% similarity, with 50 matched token, and 40 token mismatch\n",
      "## Model validation for 95 tokens : 55.78947368421052% similarity, with 53 matched token, and 42 token mismatch\n",
      "## Model validation for 100 tokens : 52.0% similarity, with 52 matched token, and 48 token mismatch\n",
      "## Model validation for 105 tokens : 49.523809523809526% similarity, with 52 matched token, and 53 token mismatch\n",
      "## Model validation for 110 tokens : 49.09090909090909% similarity, with 54 matched token, and 56 token mismatch\n",
      "## Model validation for 115 tokens : 46.08695652173913% similarity, with 53 matched token, and 62 token mismatch\n"
     ]
    }
   ],
   "source": [
    "# Memory benchmarking of the 1.5B model\n",
    "!python3 ./memory_script/eval_memory_guided.py \"../../../model/RWKV-4-Raven-1B5-v12-Eng98%-Other2%-20230520-ctx4096.pth\" \"./logs/Raven-1B5-v12.csv\""
   ]
  },
  {
   "cell_type": "code",
   "execution_count": null,
   "metadata": {},
   "outputs": [],
   "source": [
    "# Memory benchmarking of the 3B model\n",
    "!python3 ./memory_script/eval_memory_guided.py \"../../../model/RWKV-4-Raven-3B-v12-Eng98%25-Other2%25-20230520-ctx4096.pth\" \"./logs/Raven-3B-v12.csv\""
   ]
  },
  {
   "cell_type": "code",
   "execution_count": null,
   "metadata": {},
   "outputs": [],
   "source": [
    "# Memory benchmarking of the 7B model\n",
    "!python3 ./memory_script/eval_memory_guided.py \"../../../model/RWKV-4-Raven-7B-v12-Eng98%25-Other2%25-20230521-ctx8192.pth\" \"./logs/Raven-7B-v12.csv\""
   ]
  },
  {
   "cell_type": "code",
   "execution_count": null,
   "metadata": {},
   "outputs": [],
   "source": [
    "# Memory benchmarking of the 14B model\n",
    "!python3 ./memory_script/eval_memory_guided.py \"../../../model/RWKV-4-Raven-14B-v12-Eng98%25-Other2%25-20230523-ctx8192.pth\" \"./logs/Raven-14B-v12.csv\""
   ]
  }
 ],
 "metadata": {
  "kernelspec": {
   "display_name": "rwkv-infctx",
   "language": "python",
   "name": "python3"
  },
  "language_info": {
   "codemirror_mode": {
    "name": "ipython",
    "version": 3
   },
   "file_extension": ".py",
   "mimetype": "text/x-python",
   "name": "python",
   "nbconvert_exporter": "python",
   "pygments_lexer": "ipython3",
   "version": "3.11.4"
  },
  "orig_nbformat": 4
 },
 "nbformat": 4,
 "nbformat_minor": 2
}
