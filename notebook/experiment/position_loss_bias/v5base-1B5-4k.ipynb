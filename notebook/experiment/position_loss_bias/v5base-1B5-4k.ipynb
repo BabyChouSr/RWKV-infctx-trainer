{
 "cells": [
  {
   "attachments": {},
   "cell_type": "markdown",
   "metadata": {},
   "source": [
    "# RWKV v5-base 1B5 / embedding init-range 1e-01 / 4k\n",
    "This model is based on the RWKV standard 1B5 model\n",
    "\n",
    "- 24 layers\n",
    "- 2048 embedding size\n",
    "\n",
    "Going through the modified memory training for v5 models, across various initial embedding model weights\n",
    "\n",
    "**Note:** This project assumes you have the rwkv-infctx conda env setup"
   ]
  },
  {
   "attachments": {},
   "cell_type": "markdown",
   "metadata": {},
   "source": [
    "# Basic Setup"
   ]
  },
  {
   "cell_type": "code",
   "execution_count": 21,
   "metadata": {},
   "outputs": [],
   "source": [
    "# First lets setup the various directories, and init the model\n",
    "!mkdir -p ../../../../model/\n",
    "!mkdir -p ../../../../datapath/\n",
    "!mkdir -p ../../../../checkpoint/"
   ]
  },
  {
   "cell_type": "code",
   "execution_count": 22,
   "metadata": {},
   "outputs": [
    {
     "name": "stdout",
     "output_type": "stream",
     "text": [
      "DEEPSPEED_STRAT: deepspeed_stage_2_offload\n",
      "ENABLE_WANDB: True\n",
      "GPU_DEVICES: auto\n",
      "NOTEBOOK_DIR: /home/ubuntu/rwkv5x-tokenshift-exp-A/notebook/experiment/position_loss_bias\n",
      "INFERENCE_DIR: /home/ubuntu/rwkv5x-tokenshift-exp-A/RWKV-v5\n",
      "TRAINER_DIR: /home/ubuntu/rwkv5x-tokenshift-exp-A/RWKV-v5\n",
      "PROJECT_DIR: /home/ubuntu/rwkv5x-tokenshift-exp-A\n"
     ]
    }
   ],
   "source": [
    "DEEPSPEED_STRAT=\"deepspeed_stage_2_offload\"\n",
    "GPU_DEVICES=\"auto\"\n",
    "ENABLE_WANDB=True\n",
    "EMBED_SCALE=0.1\n",
    "EMBED_SCALE_LABEL=str(EMBED_SCALE).replace(\".\", \"_\")\n",
    "\n",
    "print(\"DEEPSPEED_STRAT:\", DEEPSPEED_STRAT)\n",
    "print(\"ENABLE_WANDB:\", ENABLE_WANDB)\n",
    "print(\"GPU_DEVICES:\", GPU_DEVICES)\n",
    "\n",
    "if ENABLE_WANDB:\n",
    "    WANDB_MODE=\"online\"\n",
    "else:\n",
    "    WANDB_MODE=\"disabled\"\n",
    "\n",
    "# Computing the notebook, and various paths\n",
    "import os\n",
    "NOTEBOOK_DIR=os.path.dirname(os.path.abspath(\"__file__\"))\n",
    "PROJECT_DIR=os.path.abspath(os.path.join(NOTEBOOK_DIR, \"../../../\"))\n",
    "TRAINER_DIR=os.path.abspath(os.path.join(PROJECT_DIR, \"./RWKV-v5/\"))\n",
    "INFERENCE_DIR=os.path.abspath(os.path.join(PROJECT_DIR, \"./RWKV-v5/\"))\n",
    "\n",
    "print(\"NOTEBOOK_DIR:\", NOTEBOOK_DIR)\n",
    "print(\"INFERENCE_DIR:\", INFERENCE_DIR)\n",
    "print(\"TRAINER_DIR:\", TRAINER_DIR)\n",
    "print(\"PROJECT_DIR:\", PROJECT_DIR)"
   ]
  },
  {
   "cell_type": "code",
   "execution_count": 23,
   "metadata": {},
   "outputs": [
    {
     "name": "stdout",
     "output_type": "stream",
     "text": [
      "[2023-08-18 08:34:04,347] [INFO] [real_accelerator.py:133:get_accelerator] Setting ds_accelerator to cuda (auto detect)\n",
      "[RWKV.model] Running RWKV model using 'torch-jit' with torch '2.0.1'\n",
      "---- Initializing model ----\n",
      "No of layers: 24\n",
      "Embedding size: 2048\n",
      "Output model path: ../model/L24-D2048-E0_1-neox-v5base-init.pth\n",
      "Vocab size: 50277\n",
      "Emb scale: 0.1\n",
      "---- ----- ----\n",
      "50277 2048  -0.1 emb.weight\n",
      "2048  2048  1.0  blocks.0.att.receptance.weight\n",
      "2048  2048  1.0  blocks.0.att.key.weight\n",
      "2048  2048  1.0  blocks.0.att.value.weight\n",
      "2048  2048  0    blocks.0.att.output.weight\n",
      "8192  2048  1.0  blocks.0.ffn.key.weight\n",
      "2048  2048  0    blocks.0.ffn.receptance.weight\n",
      "2048  8192  0    blocks.0.ffn.value.weight\n",
      "2048  2048  1.0  blocks.1.att.receptance.weight\n",
      "2048  2048  1.0  blocks.1.att.key.weight\n",
      "2048  2048  1.0  blocks.1.att.value.weight\n",
      "2048  2048  0    blocks.1.att.output.weight\n",
      "8192  2048  1.0  blocks.1.ffn.key.weight\n",
      "2048  2048  0    blocks.1.ffn.receptance.weight\n",
      "2048  8192  0    blocks.1.ffn.value.weight\n",
      "2048  2048  1.0  blocks.2.att.receptance.weight\n",
      "2048  2048  1.0  blocks.2.att.key.weight\n",
      "2048  2048  1.0  blocks.2.att.value.weight\n",
      "2048  2048  0    blocks.2.att.output.weight\n",
      "8192  2048  1.0  blocks.2.ffn.key.weight\n",
      "2048  2048  0    blocks.2.ffn.receptance.weight\n",
      "2048  8192  0    blocks.2.ffn.value.weight\n",
      "2048  2048  1.0  blocks.3.att.receptance.weight\n",
      "2048  2048  1.0  blocks.3.att.key.weight\n",
      "2048  2048  1.0  blocks.3.att.value.weight\n",
      "2048  2048  0    blocks.3.att.output.weight\n",
      "8192  2048  1.0  blocks.3.ffn.key.weight\n",
      "2048  2048  0    blocks.3.ffn.receptance.weight\n",
      "2048  8192  0    blocks.3.ffn.value.weight\n",
      "2048  2048  1.0  blocks.4.att.receptance.weight\n",
      "2048  2048  1.0  blocks.4.att.key.weight\n",
      "2048  2048  1.0  blocks.4.att.value.weight\n",
      "2048  2048  0    blocks.4.att.output.weight\n",
      "8192  2048  1.0  blocks.4.ffn.key.weight\n",
      "2048  2048  0    blocks.4.ffn.receptance.weight\n",
      "2048  8192  0    blocks.4.ffn.value.weight\n",
      "2048  2048  1.0  blocks.5.att.receptance.weight\n",
      "2048  2048  1.0  blocks.5.att.key.weight\n",
      "2048  2048  1.0  blocks.5.att.value.weight\n",
      "2048  2048  0    blocks.5.att.output.weight\n",
      "8192  2048  1.0  blocks.5.ffn.key.weight\n",
      "2048  2048  0    blocks.5.ffn.receptance.weight\n",
      "2048  8192  0    blocks.5.ffn.value.weight\n",
      "2048  2048  1.0  blocks.6.att.receptance.weight\n",
      "2048  2048  1.0  blocks.6.att.key.weight\n",
      "2048  2048  1.0  blocks.6.att.value.weight\n",
      "2048  2048  0    blocks.6.att.output.weight\n",
      "8192  2048  1.0  blocks.6.ffn.key.weight\n",
      "2048  2048  0    blocks.6.ffn.receptance.weight\n",
      "2048  8192  0    blocks.6.ffn.value.weight\n",
      "2048  2048  1.0  blocks.7.att.receptance.weight\n",
      "2048  2048  1.0  blocks.7.att.key.weight\n",
      "2048  2048  1.0  blocks.7.att.value.weight\n",
      "2048  2048  0    blocks.7.att.output.weight\n",
      "8192  2048  1.0  blocks.7.ffn.key.weight\n",
      "2048  2048  0    blocks.7.ffn.receptance.weight\n",
      "2048  8192  0    blocks.7.ffn.value.weight\n",
      "2048  2048  1.0  blocks.8.att.receptance.weight\n",
      "2048  2048  1.0  blocks.8.att.key.weight\n",
      "2048  2048  1.0  blocks.8.att.value.weight\n",
      "2048  2048  0    blocks.8.att.output.weight\n",
      "8192  2048  1.0  blocks.8.ffn.key.weight\n",
      "2048  2048  0    blocks.8.ffn.receptance.weight\n",
      "2048  8192  0    blocks.8.ffn.value.weight\n",
      "2048  2048  1.0  blocks.9.att.receptance.weight\n",
      "2048  2048  1.0  blocks.9.att.key.weight\n",
      "2048  2048  1.0  blocks.9.att.value.weight\n",
      "2048  2048  0    blocks.9.att.output.weight\n",
      "8192  2048  1.0  blocks.9.ffn.key.weight\n",
      "2048  2048  0    blocks.9.ffn.receptance.weight\n",
      "2048  8192  0    blocks.9.ffn.value.weight\n",
      "2048  2048  1.0  blocks.10.att.receptance.weight\n",
      "2048  2048  1.0  blocks.10.att.key.weight\n",
      "2048  2048  1.0  blocks.10.att.value.weight\n",
      "2048  2048  0    blocks.10.att.output.weight\n",
      "8192  2048  1.0  blocks.10.ffn.key.weight\n",
      "2048  2048  0    blocks.10.ffn.receptance.weight\n",
      "2048  8192  0    blocks.10.ffn.value.weight\n",
      "2048  2048  1.0  blocks.11.att.receptance.weight\n",
      "2048  2048  1.0  blocks.11.att.key.weight\n",
      "2048  2048  1.0  blocks.11.att.value.weight\n",
      "2048  2048  0    blocks.11.att.output.weight\n",
      "8192  2048  1.0  blocks.11.ffn.key.weight\n",
      "2048  2048  0    blocks.11.ffn.receptance.weight\n",
      "2048  8192  0    blocks.11.ffn.value.weight\n",
      "2048  2048  1.0  blocks.12.att.receptance.weight\n",
      "2048  2048  1.0  blocks.12.att.key.weight\n",
      "2048  2048  1.0  blocks.12.att.value.weight\n",
      "2048  2048  0    blocks.12.att.output.weight\n",
      "8192  2048  1.0  blocks.12.ffn.key.weight\n",
      "2048  2048  0    blocks.12.ffn.receptance.weight\n",
      "2048  8192  0    blocks.12.ffn.value.weight\n",
      "2048  2048  1.0  blocks.13.att.receptance.weight\n",
      "2048  2048  1.0  blocks.13.att.key.weight\n",
      "2048  2048  1.0  blocks.13.att.value.weight\n",
      "2048  2048  0    blocks.13.att.output.weight\n",
      "8192  2048  1.0  blocks.13.ffn.key.weight\n",
      "2048  2048  0    blocks.13.ffn.receptance.weight\n",
      "2048  8192  0    blocks.13.ffn.value.weight\n",
      "2048  2048  1.0  blocks.14.att.receptance.weight\n",
      "2048  2048  1.0  blocks.14.att.key.weight\n",
      "2048  2048  1.0  blocks.14.att.value.weight\n",
      "2048  2048  0    blocks.14.att.output.weight\n",
      "8192  2048  1.0  blocks.14.ffn.key.weight\n",
      "2048  2048  0    blocks.14.ffn.receptance.weight\n",
      "2048  8192  0    blocks.14.ffn.value.weight\n",
      "2048  2048  1.0  blocks.15.att.receptance.weight\n",
      "2048  2048  1.0  blocks.15.att.key.weight\n",
      "2048  2048  1.0  blocks.15.att.value.weight\n",
      "2048  2048  0    blocks.15.att.output.weight\n",
      "8192  2048  1.0  blocks.15.ffn.key.weight\n",
      "2048  2048  0    blocks.15.ffn.receptance.weight\n",
      "2048  8192  0    blocks.15.ffn.value.weight\n",
      "2048  2048  1.0  blocks.16.att.receptance.weight\n",
      "2048  2048  1.0  blocks.16.att.key.weight\n",
      "2048  2048  1.0  blocks.16.att.value.weight\n",
      "2048  2048  0    blocks.16.att.output.weight\n",
      "8192  2048  1.0  blocks.16.ffn.key.weight\n",
      "2048  2048  0    blocks.16.ffn.receptance.weight\n",
      "2048  8192  0    blocks.16.ffn.value.weight\n",
      "2048  2048  1.0  blocks.17.att.receptance.weight\n",
      "2048  2048  1.0  blocks.17.att.key.weight\n",
      "2048  2048  1.0  blocks.17.att.value.weight\n",
      "2048  2048  0    blocks.17.att.output.weight\n",
      "8192  2048  1.0  blocks.17.ffn.key.weight\n",
      "2048  2048  0    blocks.17.ffn.receptance.weight\n",
      "2048  8192  0    blocks.17.ffn.value.weight\n",
      "2048  2048  1.0  blocks.18.att.receptance.weight\n",
      "2048  2048  1.0  blocks.18.att.key.weight\n",
      "2048  2048  1.0  blocks.18.att.value.weight\n",
      "2048  2048  0    blocks.18.att.output.weight\n",
      "8192  2048  1.0  blocks.18.ffn.key.weight\n",
      "2048  2048  0    blocks.18.ffn.receptance.weight\n",
      "2048  8192  0    blocks.18.ffn.value.weight\n",
      "2048  2048  1.0  blocks.19.att.receptance.weight\n",
      "2048  2048  1.0  blocks.19.att.key.weight\n",
      "2048  2048  1.0  blocks.19.att.value.weight\n",
      "2048  2048  0    blocks.19.att.output.weight\n",
      "8192  2048  1.0  blocks.19.ffn.key.weight\n",
      "2048  2048  0    blocks.19.ffn.receptance.weight\n",
      "2048  8192  0    blocks.19.ffn.value.weight\n",
      "2048  2048  1.0  blocks.20.att.receptance.weight\n",
      "2048  2048  1.0  blocks.20.att.key.weight\n",
      "2048  2048  1.0  blocks.20.att.value.weight\n",
      "2048  2048  0    blocks.20.att.output.weight\n",
      "8192  2048  1.0  blocks.20.ffn.key.weight\n",
      "2048  2048  0    blocks.20.ffn.receptance.weight\n",
      "2048  8192  0    blocks.20.ffn.value.weight\n",
      "2048  2048  1.0  blocks.21.att.receptance.weight\n",
      "2048  2048  1.0  blocks.21.att.key.weight\n",
      "2048  2048  1.0  blocks.21.att.value.weight\n",
      "2048  2048  0    blocks.21.att.output.weight\n",
      "8192  2048  1.0  blocks.21.ffn.key.weight\n",
      "2048  2048  0    blocks.21.ffn.receptance.weight\n",
      "2048  8192  0    blocks.21.ffn.value.weight\n",
      "2048  2048  1.0  blocks.22.att.receptance.weight\n",
      "2048  2048  1.0  blocks.22.att.key.weight\n",
      "2048  2048  1.0  blocks.22.att.value.weight\n",
      "2048  2048  0    blocks.22.att.output.weight\n",
      "8192  2048  1.0  blocks.22.ffn.key.weight\n",
      "2048  2048  0    blocks.22.ffn.receptance.weight\n",
      "2048  8192  0    blocks.22.ffn.value.weight\n",
      "2048  2048  1.0  blocks.23.att.receptance.weight\n",
      "2048  2048  1.0  blocks.23.att.key.weight\n",
      "2048  2048  1.0  blocks.23.att.value.weight\n",
      "2048  2048  0    blocks.23.att.output.weight\n",
      "8192  2048  1.0  blocks.23.ffn.key.weight\n",
      "2048  2048  0    blocks.23.ffn.receptance.weight\n",
      "2048  8192  0    blocks.23.ffn.value.weight\n",
      "50277 2048  0.5  head.weight\n"
     ]
    }
   ],
   "source": [
    "# Init the model\n",
    "!cd \"{TRAINER_DIR}\" && \\\n",
    "    python3 ./init_model.py \\\n",
    "        --n_layer 24 --n_embd 2048 \\\n",
    "        --emb-scale \"{EMBED_SCALE}\" \\\n",
    "        --vocab_size neox --skip-if-exists \\\n",
    "        \"../model/L24-D2048-E{EMBED_SCALE_LABEL}-neox-v5base-init.pth\""
   ]
  },
  {
   "cell_type": "code",
   "execution_count": 24,
   "metadata": {},
   "outputs": [
    {
     "name": "stdout",
     "output_type": "stream",
     "text": [
      "Saving the dataset (1/1 shards): 100%|█| 5308/5308 [00:00<00:00, 52791.32 exampl\n",
      "Saving the dataset (1/1 shards): 100%|█| 54/54 [00:00<00:00, 9215.25 examples/s]\n"
     ]
    }
   ],
   "source": [
    "# Lets preload the requried dataset \n",
    "!cd \"{TRAINER_DIR}\" && \\\n",
    "    python3 preload_datapath.py \"{NOTEBOOK_DIR}/v5base-enwiki-4k.yaml\""
   ]
  },
  {
   "cell_type": "markdown",
   "metadata": {},
   "source": [
    "## Enwiki 10k / p1.0 - ctx 4k training"
   ]
  },
  {
   "cell_type": "code",
   "execution_count": 25,
   "metadata": {},
   "outputs": [
    {
     "name": "stdout",
     "output_type": "stream",
     "text": [
      "POS_LOSS_BIAS: 1.0\n",
      "WANDB_PREFIX: v5base-1B5-E0.1-P1.0\n",
      "FILENAME_PREFIX: v5base-1B5-E0_1-P1_0\n"
     ]
    }
   ],
   "source": [
    "POS_LOSS_BIAS=1.0\n",
    "POS_LOSS_BIAS_LABEL=str(POS_LOSS_BIAS).replace(\".\", \"_\")\n",
    "\n",
    "WANDB_PREFIX=f\"v5base-1B5-E{EMBED_SCALE}-P{POS_LOSS_BIAS}\"\n",
    "FILENAME_PREFIX=f\"v5base-1B5-E{EMBED_SCALE_LABEL}-P{POS_LOSS_BIAS_LABEL}\"\n",
    "\n",
    "print(\"POS_LOSS_BIAS:\", POS_LOSS_BIAS)\n",
    "print(\"WANDB_PREFIX:\", WANDB_PREFIX)\n",
    "print(\"FILENAME_PREFIX:\", FILENAME_PREFIX)"
   ]
  },
  {
   "cell_type": "code",
   "execution_count": 26,
   "metadata": {},
   "outputs": [
    {
     "name": "stdout",
     "output_type": "stream",
     "text": [
      "[2023-08-18 08:35:03,020] [INFO] [real_accelerator.py:133:get_accelerator] Setting ds_accelerator to cuda (auto detect)\n",
      "[RWKV.model] Running RWKV model using 'torch-jit' with torch '2.0.1'\n",
      "/home/ubuntu/anaconda3/envs/rwkv-infctx/lib/python3.11/site-packages/lightning/pytorch/cli.py:484: UserWarning: LightningCLI's args parameter is intended to run from within Python like if it were from the command line. To prevent mistakes it is not recommended to provide both args and command line arguments, got: sys.argv[1:]=['fit', '-c', '/home/ubuntu/rwkv5x-tokenshift-exp-A/notebook/experiment/position_loss_bias/v5base-enwiki-1k.yaml', '--trainer.logger.init_args.name=v5base-1B5-E0.1-P1.0 - Enwiki-small-4k Foundation (train-ctx=4k, deepspeed_stage_2_offload)', '--trainer.strategy=deepspeed_stage_2_offload', '--trainer.devices=auto', '--trainer.callbacks.init_args.dirpath=../checkpoint/v5base-1B5-E0_1-P1_0-enwiki-4k/', '--model.load_model=../model/L24-D2048-E0_1-neox-v5base-init.pth', '--model.position_loss_bias=1.0', '--model.ctx_len=4096', '--model.bptt_learning_range=1'], args=['fit', '-c', '/home/ubuntu/rwkv5x-tokenshift-exp-A/notebook/experiment/position_loss_bias/v5base-enwiki-1k.yaml', '--trainer.logger.init_args.name=v5base-1B5-E0.1-P1.0 - Enwiki-small-4k Foundation (train-ctx=4k, deepspeed_stage_2_offload)', '--trainer.strategy=deepspeed_stage_2_offload', '--trainer.devices=auto', '--trainer.callbacks.init_args.dirpath=../checkpoint/v5base-1B5-E0_1-P1_0-enwiki-4k/', '--model.load_model=../model/L24-D2048-E0_1-neox-v5base-init.pth', '--model.position_loss_bias=1.0', '--model.ctx_len=4096', '--model.bptt_learning_range=1'].\n",
      "  rank_zero_warn(\n",
      "/home/ubuntu/anaconda3/envs/rwkv-infctx/lib/python3.11/site-packages/lightning/fabric/utilities/seed.py:39: UserWarning: No seed found, seed set to 64432937\n",
      "  rank_zero_warn(f\"No seed found, seed set to {seed}\")\n",
      "Global seed set to 64432937\n",
      "\u001b[34m\u001b[1mwandb\u001b[0m: Currently logged in as: \u001b[33mpicocreator\u001b[0m. Use \u001b[1m`wandb login --relogin`\u001b[0m to force relogin\n",
      "cat: /sys/module/amdgpu/initstate: No such file or directory\n",
      "ERROR:root:Driver not initialized (amdgpu not found in modules)\n",
      "\u001b[34m\u001b[1mwandb\u001b[0m: Tracking run with wandb version 0.15.8\n",
      "\u001b[34m\u001b[1mwandb\u001b[0m: Run data is saved locally in \u001b[35m\u001b[1m./wandb/run-20230818_083505-14i30730\u001b[0m\n",
      "\u001b[34m\u001b[1mwandb\u001b[0m: Run \u001b[1m`wandb offline`\u001b[0m to turn off syncing.\n",
      "\u001b[34m\u001b[1mwandb\u001b[0m: Syncing run \u001b[33mv5base-1B5-E0.1-P1.0 - Enwiki-small-4k Foundation (train-ctx=4k, deepspeed_stage_2_offload)\u001b[0m\n",
      "\u001b[34m\u001b[1mwandb\u001b[0m: ⭐️ View project at \u001b[34m\u001b[4mhttps://wandb.ai/picocreator/RWKV-5X-Experiments\u001b[0m\n",
      "\u001b[34m\u001b[1mwandb\u001b[0m: 🚀 View run at \u001b[34m\u001b[4mhttps://wandb.ai/picocreator/RWKV-5X-Experiments/runs/14i30730\u001b[0m\n",
      "GPU available: True (cuda), used: True\n",
      "TPU available: False, using: 0 TPU cores\n",
      "IPU available: False, using: 0 IPUs\n",
      "HPU available: False, using: 0 HPUs\n",
      "\n",
      "\n",
      "[RWKV.Trainer] Applying 'target_batch_size' with the following:\n",
      "   - target_batch_size:       16\n",
      "   - num_nodes:               1\n",
      "   - num_devices:             1\n",
      "   - accumulate_grad_batches: 16\n",
      "   - effective_batch_size:    16\n",
      "\n",
      "Saving the dataset (1/1 shards): 100%|█| 5308/5308 [00:00<00:00, 51259.81 exampl\n",
      "Saving the dataset (1/1 shards): 100%|█| 54/54 [00:00<00:00, 8914.57 examples/s]\n",
      "[rank: 0] Global seed set to 64432937\n",
      "initializing deepspeed distributed: GLOBAL_RANK: 0, MEMBER: 1/1\n",
      "[2023-08-18 08:35:20,020] [WARNING] [comm.py:152:init_deepspeed_backend] NCCL backend in DeepSpeed not yet implemented\n",
      "Enabling DeepSpeed BF16.\n",
      "LOCAL_RANK: 0 - CUDA_VISIBLE_DEVICES: [0]\n",
      "#\n",
      "# RWKV lighting_trainer.py important notes \n",
      "# https://github.com/RWKV/RWKV-infctx-trainer \n",
      "#\n",
      "# - Ensure your host is not running cuda 12.0 (use either 11.8, or >=12.1), as this is known to have freeze issues\n",
      "# - The terms used in wandb / the progress bar can be confusing, see the github README.md for beter clarifications\n",
      "# - When resuming from checkpoint, the estimated time is inaccurate\n",
      "#\n",
      "\n",
      "[RWKV.model] Configuring optimizer with\n",
      "    - lr_init:  6.000e-04 (0.0006)\n",
      "    - lr_final: 4.000e-04 (0.0004)\n",
      "\n",
      "Using /home/ubuntu/.cache/torch_extensions/py311_cu118 as PyTorch extensions root...\n",
      "Detected CUDA files, patching ldflags\n",
      "Emitting ninja build file /home/ubuntu/.cache/torch_extensions/py311_cu118/cpu_adam/build.ninja...\n",
      "Building extension module cpu_adam...\n",
      "Allowing ninja to set a default number of workers... (overridable by setting the environment variable MAX_JOBS=N)\n",
      "ninja: no work to do.\n",
      "Loading extension module cpu_adam...\n",
      "Time to load cpu_adam op: 2.3340160846710205 seconds\n",
      "Loading `train_dataloader` to estimate number of stepping batches.\n",
      "Rank: 0 partition count [1, 1] and sizes[(1515106304, False), (1536, False)] \n",
      "\n",
      "  | Name   | Type       | Params\n",
      "--------------------------------------\n",
      "0 | emb    | Embedding  | 102 M \n",
      "1 | blocks | ModuleList | 1.3 B \n",
      "2 | ln_out | LayerNorm  | 4.1 K \n",
      "3 | head   | Linear     | 102 M \n",
      "--------------------------------------\n",
      "1.5 B     Trainable params\n",
      "0         Non-trainable params\n",
      "1.5 B     Total params\n",
      "6,060.431 Total estimated model params size (MB)\n",
      "Epoch 0:   3%| | 151/5308 [02:47<1:35:12,  1.11s/it, v_num=0730, train/loss=9.19"
     ]
    }
   ],
   "source": [
    "# Start the foundation model training\n",
    "!cd \"{TRAINER_DIR}\" && \\\n",
    "    export WANDB_MODE=\"{WANDB_MODE}\" && \\\n",
    "    python lightning_trainer.py fit \\\n",
    "        -c \"{NOTEBOOK_DIR}/v5base-enwiki-1k.yaml\" \\\n",
    "        --trainer.logger.init_args.name=\"{WANDB_PREFIX} - Enwiki-small-4k Foundation (train-ctx=4k, {DEEPSPEED_STRAT})\" \\\n",
    "        --trainer.strategy=\"{DEEPSPEED_STRAT}\" \\\n",
    "        --trainer.devices=\"{GPU_DEVICES}\" \\\n",
    "        --trainer.callbacks.init_args.dirpath=\"../checkpoint/{FILENAME_PREFIX}-enwiki-4k/\" \\\n",
    "        --model.load_model=\"../model/L24-D2048-E{EMBED_SCALE_LABEL}-neox-v5base-init.pth\" \\\n",
    "        --model.position_loss_bias=1.0 \\\n",
    "        --model.ctx_len=4096 \\\n",
    "        --model.bptt_learning_range=1"
   ]
  },
  {
   "cell_type": "code",
   "execution_count": null,
   "metadata": {},
   "outputs": [],
   "source": [
    "# Lets export the model from the checkpoint\n",
    "!cd \"{TRAINER_DIR}\" && \\\n",
    "    python export_checkpoint.py \"../checkpoint/{FILENAME_PREFIX}-enwiki-4k/last.ckpt\" \"../model/{FILENAME_PREFIX}-enwiki-4k.pth\"\n",
    "!cd \"{TRAINER_DIR}\" && ls -alh \"../model/{FILENAME_PREFIX}-enwiki-4k.pth\""
   ]
  },
  {
   "cell_type": "code",
   "execution_count": null,
   "metadata": {},
   "outputs": [],
   "source": [
    "# # Lets do a quick dragon prompt validation\n",
    "!cd \"{INFERENCE_DIR}\" && \\\n",
    "    export RWKV_WAVENET_LAYERS=\"{RWKV_WAVENET_LAYERS}\" && \\\n",
    "    python3 dragon_test.py \"../model/{FILENAME_PREFIX}-enwiki-4k.pth\" \"cuda fp32\""
   ]
  },
  {
   "cell_type": "code",
   "execution_count": null,
   "metadata": {},
   "outputs": [],
   "source": [
    "# Lets do a quick memory test\n",
    "!python3 ../memory_script/eval_v5_memory_guided.py \"{PROJECT_DIR}/model/{FILENAME_PREFIX}-enwiki-4k.pth\""
   ]
  },
  {
   "cell_type": "markdown",
   "metadata": {},
   "source": [
    "## Enwiki 10k / p0.1 - ctx 4k training"
   ]
  },
  {
   "cell_type": "code",
   "execution_count": null,
   "metadata": {},
   "outputs": [],
   "source": [
    "POS_LOSS_BIAS=0.1\n",
    "POS_LOSS_BIAS_LABEL=str(POS_LOSS_BIAS).replace(\".\", \"_\")\n",
    "\n",
    "WANDB_PREFIX=f\"v5base-1B5-E{EMBED_SCALE}-P{POS_LOSS_BIAS}\"\n",
    "FILENAME_PREFIX=f\"v5base-1B5-E{EMBED_SCALE_LABEL}-P{POS_LOSS_BIAS_LABEL}\"\n",
    "\n",
    "print(\"POS_LOSS_BIAS:\", POS_LOSS_BIAS)\n",
    "print(\"WANDB_PREFIX:\", WANDB_PREFIX)\n",
    "print(\"FILENAME_PREFIX:\", FILENAME_PREFIX)"
   ]
  },
  {
   "cell_type": "code",
   "execution_count": null,
   "metadata": {},
   "outputs": [],
   "source": [
    "# Start the foundation model training\n",
    "!cd \"{TRAINER_DIR}\" && \\\n",
    "    export WANDB_MODE=\"{WANDB_MODE}\" && \\\n",
    "    python lightning_trainer.py fit \\\n",
    "        -c \"{NOTEBOOK_DIR}/v5base-enwiki-1k.yaml\" \\\n",
    "        --trainer.logger.init_args.name=\"{WANDB_PREFIX} - Enwiki-small-4k Foundation (train-ctx=4k, {DEEPSPEED_STRAT})\" \\\n",
    "        --trainer.strategy=\"{DEEPSPEED_STRAT}\" \\\n",
    "        --trainer.devices=\"{GPU_DEVICES}\" \\\n",
    "        --trainer.callbacks.init_args.dirpath=\"../checkpoint/{FILENAME_PREFIX}-enwiki-4k/\" \\\n",
    "        --model.load_model=\"../model/L24-D2048-E{EMBED_SCALE_LABEL}-neox-v5base-init.pth\" \\\n",
    "        --model.position_loss_bias=0.1 \\\n",
    "        --model.ctx_len=4096 \\\n",
    "        --model.bptt_learning_range=1"
   ]
  },
  {
   "cell_type": "code",
   "execution_count": null,
   "metadata": {},
   "outputs": [],
   "source": [
    "# Lets export the model from the checkpoint\n",
    "!cd \"{TRAINER_DIR}\" && \\\n",
    "    python export_checkpoint.py \"../checkpoint/{FILENAME_PREFIX}-enwiki-4k/last.ckpt\" \"../model/{FILENAME_PREFIX}-enwiki-4k.pth\"\n",
    "!cd \"{TRAINER_DIR}\" && ls -alh \"../model/{FILENAME_PREFIX}-enwiki-4k.pth\""
   ]
  },
  {
   "cell_type": "code",
   "execution_count": null,
   "metadata": {},
   "outputs": [],
   "source": [
    "# # Lets do a quick dragon prompt validation\n",
    "!cd \"{INFERENCE_DIR}\" && \\\n",
    "    export RWKV_WAVENET_LAYERS=\"{RWKV_WAVENET_LAYERS}\" && \\\n",
    "    python3 dragon_test.py \"../model/{FILENAME_PREFIX}-enwiki-4k.pth\" \"cuda fp32\""
   ]
  },
  {
   "cell_type": "code",
   "execution_count": null,
   "metadata": {},
   "outputs": [],
   "source": [
    "# Lets do a quick memory test\n",
    "!python3 ../memory_script/eval_v5_memory_guided.py \"{PROJECT_DIR}/model/{FILENAME_PREFIX}-enwiki-4k.pth\""
   ]
  }
 ],
 "metadata": {
  "kernelspec": {
   "display_name": "Python 3 (ipykernel)",
   "language": "python",
   "name": "python3"
  },
  "language_info": {
   "codemirror_mode": {
    "name": "ipython",
    "version": 3
   },
   "file_extension": ".py",
   "mimetype": "text/x-python",
   "name": "python",
   "nbconvert_exporter": "python",
   "pygments_lexer": "ipython3",
   "version": "3.11.4"
  }
 },
 "nbformat": 4,
 "nbformat_minor": 4
}
